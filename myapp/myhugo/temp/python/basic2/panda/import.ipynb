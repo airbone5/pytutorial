{
 "cells": [
  {
   "cell_type": "markdown",
   "metadata": {},
   "source": [
    "## "
   ]
  },
  {
   "cell_type": "markdown",
   "metadata": {},
   "source": [
    "🏷️如果不想要CELL只輸出最後一個結果,可以執行這個\n",
    "```\n",
    "from IPython.core.interactiveshell import InteractiveShell\n",
    "InteractiveShell.ast_node_interactivity = \"all\"\n",
    "```"
   ]
  },
  {
   "cell_type": "markdown",
   "metadata": {},
   "source": [
    "## 準備工作\n",
    "\n",
    "複製資料到目前的資料夾"
   ]
  },
  {
   "cell_type": "code",
   "execution_count": 5,
   "metadata": {},
   "outputs": [
    {
     "data": {
      "text/plain": [
       "<os._wrap_close at 0x232cde710a0>"
      ]
     },
     "execution_count": 5,
     "metadata": {},
     "output_type": "execute_result"
    }
   ],
   "source": [
    "import os\n",
    "os.popen('copy ..\\\\..\\\\dataset\\\\iris.csv diris.csv')"
   ]
  },
  {
   "cell_type": "markdown",
   "metadata": {},
   "source": [
    "## 一般讀取CSV方法\n",
    "如果CSV資料沒有特殊格式,例如欄位用CSV分隔,而第一行是欄位名稱(可以沒有),那麼讀取方式比較簡單\n",
    "### 讀成dict: 函數DictReader()"
   ]
  },
  {
   "cell_type": "code",
   "execution_count": 6,
   "metadata": {},
   "outputs": [
    {
     "name": "stdout",
     "output_type": "stream",
     "text": [
      "['a', 'b', 'c']\n",
      "1 2\n",
      "4 5\n"
     ]
    }
   ],
   "source": [
    "import csv\n",
    "\"\"\"\n",
    "檔案abc.csv 內容\n",
    "a,b,c\n",
    "1,2,3\n",
    "4,5,6\n",
    "\"\"\"\n",
    "handle=open('abc.csv')\n",
    "reader1 = csv.DictReader(handle) #把每一行讀成dict\n",
    "\n",
    "print(reader1.fieldnames) # ['a', 'b', 'c']\n",
    "\n",
    "for row in reader1:\n",
    "    print(row['a'], row['b'])\n",
    "handle.close()"
   ]
  },
  {
   "cell_type": "markdown",
   "metadata": {},
   "source": [
    "## 特殊CSV範例\n",
    "但是有些CSV資料,並不是像上面的例子那樣安排,例如本文的測試資料[iris.csv](../../dataset/iris.csv)\n",
    "```\n",
    "150,4,setosa,versicolor,virginica\n",
    "5.1,3.5,1.4,0.2,0\n",
    "4.9,3.0,1.4,0.2,0\n",
    "```\n",
    "150代表樣本數,4代表4個欄位,後面3個代表最後一欄0,1,2的值"
   ]
  },
  {
   "cell_type": "code",
   "execution_count": 7,
   "metadata": {},
   "outputs": [
    {
     "name": "stdout",
     "output_type": "stream",
     "text": [
      "<csv.DictReader object at 0x00000232CDD3FF50>\n",
      "['150', '4', 'setosa', 'versicolor', 'virginica']\n"
     ]
    }
   ],
   "source": [
    "handle=open('diris.csv')\n",
    "\n",
    "reader1 = csv.DictReader(handle)\n",
    "print(reader1)\n",
    "print(reader1.fieldnames) # 雖然沒有錯誤,但是讀到的是 ['150', '4', 'setosa', 'versicolor', 'virginica']\n",
    "handle.close()"
   ]
  },
  {
   "cell_type": "markdown",
   "metadata": {},
   "source": [
    "如果要一行一行讀的話,就用函數`next()`"
   ]
  },
  {
   "cell_type": "code",
   "execution_count": 30,
   "metadata": {},
   "outputs": [
    {
     "name": "stdout",
     "output_type": "stream",
     "text": [
      "['150', '4', 'setosa', 'versicolor', 'virginica']\n",
      "['5.1', '3.5', '1.4', '0.2', '0']\n"
     ]
    }
   ],
   "source": [
    "handle=open('diris.csv')\n",
    "rst=csv.reader(handle)\n",
    "x=next(rst) #讀取下一行\n",
    "print(x)\n",
    "x=next(rst) #讀取下一行\n",
    "print(x)\n",
    "\n",
    "handle.close()"
   ]
  },
  {
   "cell_type": "markdown",
   "metadata": {},
   "source": [
    "## 利用numpy\n",
    "將內容讀成data(X),和target(y)"
   ]
  },
  {
   "cell_type": "code",
   "execution_count": 9,
   "metadata": {},
   "outputs": [
    {
     "name": "stdout",
     "output_type": "stream",
     "text": [
      "['setosa' 'versicolor' 'virginica']\n",
      "X資料前5\n",
      "[[5.1 3.5 1.4 0.2]\n",
      " [4.9 3.  1.4 0.2]\n",
      " [4.7 3.2 1.3 0.2]\n",
      " [4.6 3.1 1.5 0.2]\n",
      " [5.  3.6 1.4 0.2]]\n",
      "y資料前5\n",
      "['setosa' 'setosa' 'setosa' 'setosa' 'setosa']\n"
     ]
    }
   ],
   "source": [
    "import csv\n",
    "import numpy as np\n",
    "handle=open('../../dataset/iris.csv')        \n",
    "data_file = csv.reader(handle)\n",
    "temp = next(data_file) # 讀入第一行\n",
    "n_samples = int(temp[0]) # 第一行,第1個元素是,總樣本數\n",
    "n_features = int(temp[1]) # 第一行,第2個元素是,欄位個數\n",
    "xx=temp[2:]\n",
    "target_names = np.array(temp[2:]) # 第一行,其他欄位是輸出y號碼代表的類別\n",
    "print(target_names)\n",
    "data = np.empty((n_samples, n_features))\n",
    "target = np.empty((n_samples,), dtype=int)\n",
    "#這裡才真正讀取樣本\n",
    "for i, ir in enumerate(data_file):\n",
    "    data[i] = np.asarray(ir[:-1], dtype=np.float64)\n",
    "    target[i] = np.asarray(ir[-1], dtype=int)\n",
    "\n",
    "handle.close()\n",
    "print(\"X資料前5\")\n",
    "print(data[0:5])\n",
    "print(\"y資料前5\")\n",
    "print(target_names[target[0:5]])\n"
   ]
  },
  {
   "cell_type": "markdown",
   "metadata": {},
   "source": [
    "### 利用pandas"
   ]
  },
  {
   "cell_type": "code",
   "execution_count": 10,
   "metadata": {},
   "outputs": [],
   "source": [
    "import pandas as pd"
   ]
  },
  {
   "cell_type": "code",
   "execution_count": 31,
   "metadata": {},
   "outputs": [
    {
     "name": "stdout",
     "output_type": "stream",
     "text": [
      "       0  1\n",
      "0      1  2\n",
      "1  ... 5  6\n",
      "       0  1\n",
      "0  ... 3  4\n",
      "1  ... 5  6\n"
     ]
    }
   ],
   "source": [
    "# 這是前測\n",
    "from io import StringIO\n",
    "s = \"\"\"1, 2\n",
    "... 3, 4\n",
    "... 5, 6\"\"\"\n",
    "d1=pd.read_csv(StringIO(s), skiprows=[1], header=None)\n",
    "print(d1)\n",
    "d2=pd.read_csv(StringIO(s), skiprows=1, header=None)\n",
    "print(d2)\n"
   ]
  },
  {
   "cell_type": "code",
   "execution_count": 32,
   "metadata": {},
   "outputs": [
    {
     "name": "stdout",
     "output_type": "stream",
     "text": [
      "[[5.1 3.5 1.4]\n",
      " [4.9 3.  1.4]]\n",
      "[0 0]\n"
     ]
    }
   ],
   "source": [
    "\n",
    "df=pd.read_csv(\"diris.csv\", skiprows=1, header=None)\n",
    "# 加入欄位名稱\n",
    "df.columns=['a','b','c','d','target']\n",
    "#轉為numpy\n",
    "data=df.iloc[:,0:3].to_numpy() \n",
    "print(data[0:2])\n",
    "target=df.iloc[:,-1].to_numpy()\n",
    "print(target[0:2])\n",
    "\n"
   ]
  },
  {
   "cell_type": "markdown",
   "metadata": {},
   "source": [
    "注意 要抽取欄位a,b的時候必須是"
   ]
  },
  {
   "cell_type": "code",
   "execution_count": 23,
   "metadata": {},
   "outputs": [
    {
     "name": "stdout",
     "output_type": "stream",
     "text": [
      "     a    b\n",
      "0  5.1  3.5\n",
      "1  4.9  3.0\n",
      "     a    b\n",
      "0  5.1  3.5\n",
      "1  4.9  3.0\n",
      "     a    b\n",
      "0  5.1  3.5\n",
      "1  4.9  3.0\n"
     ]
    }
   ],
   "source": [
    "x=df[['a','b']] ## ❌不是df['a','b'] 🏷️x是一個dataframe\n",
    "y=x[0:2] #看看前兩筆 y也是dataframe\n",
    "print(y)\n",
    "ds1=x.loc[[0,1]] #🏷️ds1==ds2\n",
    "ds2=x.loc[0:1]\n",
    "print(ds1)\n",
    "print(ds2)"
   ]
  },
  {
   "cell_type": "markdown",
   "metadata": {},
   "source": [
    "如果想要拿到series,例如要拿到欄位a 的series型態: 那就是 "
   ]
  },
  {
   "cell_type": "code",
   "execution_count": 26,
   "metadata": {},
   "outputs": [
    {
     "data": {
      "text/plain": [
       "0    5.1\n",
       "Name: a, dtype: float64"
      ]
     },
     "execution_count": 26,
     "metadata": {},
     "output_type": "execute_result"
    }
   ],
   "source": [
    "pd.Series(x['a'])[0:1] # 轉成series 再利用[0:1]拿到第1 筆 "
   ]
  },
  {
   "cell_type": "markdown",
   "metadata": {},
   "source": [
    "❓問題\n",
    "df[0:2]的結果是甚麼"
   ]
  }
 ],
 "metadata": {
  "kernelspec": {
   "display_name": "Python 3",
   "language": "python",
   "name": "python3"
  },
  "language_info": {
   "codemirror_mode": {
    "name": "ipython",
    "version": 3
   },
   "file_extension": ".py",
   "mimetype": "text/x-python",
   "name": "python",
   "nbconvert_exporter": "python",
   "pygments_lexer": "ipython3",
   "version": "3.12.6"
  }
 },
 "nbformat": 4,
 "nbformat_minor": 2
}
