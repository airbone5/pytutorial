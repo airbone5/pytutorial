{
 "cells": [
  {
   "cell_type": "raw",
   "metadata": {},
   "source": [
    "---\n",
    "title: 過程\n",
    "description: 過程\n",
    "tags: []\n",
    "categories: []\n",
    "series: []\n",
    "editext: ipynb\n",
    "---\n",
    "<!--more-->"
   ]
  },
  {
   "cell_type": "code",
   "execution_count": 10,
   "metadata": {
    "tags": [
     "statatag_hide"
    ]
   },
   "outputs": [
    {
     "name": "stdout",
     "output_type": "stream",
     "text": [
      "~test2.py_Nov-23-24-21:57:24\n"
     ]
    }
   ],
   "source": [
    "import datetime\n",
    "import os,json,re\n",
    "\n",
    "\n",
    "def getbakname(apath):\n",
    "\n",
    "    modifiedTime = os.path.getmtime(apath) \n",
    "    timeStamp =  datetime.datetime.fromtimestamp(modifiedTime).strftime(\"%b-%d-%y-%H:%M:%S\")\n",
    "    #os.rename(FilePath,FilePath+\"_\"+timeStamp)\n",
    "    return '~'+apath+'_'+timeStamp\n",
    "\n",
    "print(getbakname('test2.py'))"
   ]
  },
  {
   "cell_type": "markdown",
   "metadata": {},
   "source": [
    "通用副程式"
   ]
  },
  {
   "cell_type": "code",
   "execution_count": 5,
   "metadata": {},
   "outputs": [],
   "source": [
    "# 拿正檔名\n",
    "def realbasename(astr):\n",
    "    #e.g. c:\\folder\\xx.bat-> xx\n",
    "    return os.path.basename(astr).rsplit( \".\", 1 )[0]\n",
    "\n",
    "\n",
    "#拿副檔名\n",
    "def realextname(astr):    \n",
    "    # 簡單解釋:參數 c:\\folder\\xx.bat-> xx\n",
    "    # 範例\n",
    "    # afile=r\".\\過程.ipynb\"   \n",
    "    # aext=realextname(afile) # content 是字串\n",
    "    # aext ==>(ipynb)\n",
    "\n",
    "    tmp=os.path.basename(astr).rsplit( \".\", 1 )\n",
    "    if len(tmp)<2:\n",
    "        raise \"沒有副檔名\"\n",
    "    return os.path.basename(astr).rsplit( \".\", 1 )[1]\n",
    "\n",
    "\n",
    "def readText(afile):\n",
    "    file = open(afile, \"r\",encoding='utf8')\n",
    "    content=file.read().lstrip(\"\\n\")\n",
    "    file.close()\n",
    "    return(content)"
   ]
  },
  {
   "cell_type": "markdown",
   "metadata": {},
   "source": [
    "目前不用的副程式"
   ]
  },
  {
   "cell_type": "code",
   "execution_count": null,
   "metadata": {},
   "outputs": [],
   "source": [
    "def firstcellcontent(afile):\n",
    "  content=readText(afile) # content 是字串\n",
    "  jcontent=json.loads(content)\n",
    "  acell=jcontent[\"cells\"][0][\"source\"] #第1個cell的內容"
   ]
  },
  {
   "cell_type": "markdown",
   "metadata": {},
   "source": [
    "讀入第一個cell"
   ]
  },
  {
   "cell_type": "code",
   "execution_count": 7,
   "metadata": {},
   "outputs": [
    {
     "data": {
      "text/plain": [
       "['---\\n',\n",
       " 'title: 過程\\n',\n",
       " 'description: 過程\\n',\n",
       " 'tags: []\\n',\n",
       " 'categories: []\\n',\n",
       " 'series: []\\n',\n",
       " 'editext: ipynb\\n',\n",
       " '---\\n',\n",
       " '<!--more-->']"
      ]
     },
     "execution_count": 7,
     "metadata": {},
     "output_type": "execute_result"
    }
   ],
   "source": [
    "afile=r\".\\過程.ipynb\"   \n",
    "content=readText(afile) # content 是字串\n",
    "\n",
    "jcontent=json.loads(content)\n",
    "jcontent[\"cells\"] # 全部\n",
    "cell_content= jcontent[\"cells\"][0][\"source\"] #第1個cell的內容\n",
    "\n",
    "cell_content"
   ]
  },
  {
   "cell_type": "code",
   "execution_count": 9,
   "metadata": {},
   "outputs": [
    {
     "data": {
      "text/plain": [
       "True"
      ]
     },
     "execution_count": 9,
     "metadata": {},
     "output_type": "execute_result"
    }
   ],
   "source": [
    "\n",
    "def txtHasHugoHead(txt):\n",
    "    p=r\"^---[\\s\\S]*?---\"\n",
    "    rst= not re.match(p,txt)==None    \n",
    "    return(rst)   \n",
    "\n",
    "def fileHasHugoHead(afile):\n",
    "    if afile.endswith('ipynb'):\n",
    "      content=readText(afile) # content 是字串\n",
    "      jcontent=json.loads(content)\n",
    "      txt=jcontent[\"cells\"][0][\"source\"] #第1個cell的內容\n",
    "      txt=''.join(txt)\n",
    "    else:\n",
    "      txt=readText(afile)\n",
    "    return(txtHasHugoHead(txt))\n",
    "\n",
    "\n",
    "\n",
    "\n",
    "# def tomd(aname,mdname):\n",
    "#     content=readText(aname)\n",
    "#     notebook=nbformat.reads(content, as_version=4)\n",
    "\n",
    "    \n",
    "#     #exporter = HugoExporter() # 原先用的是這個\n",
    "#     exporter = MarkdownExporter() \n",
    "#     #註解 output_files_dir, in nbconvert ,hugoexporter images_path\n",
    "#     imgpath=realbasename(mdname)+'.files'  ## n1\n",
    "#     markdown, resources = exporter.from_notebook_node(notebook,{'output_files_dir':imgpath})\n",
    "#     markdown=AddHugoHead(markdown,os.path.basename(aname).rsplit('.')[0])\n",
    "#     writeText(markdown,mdname)\n",
    "#     return(markdown,resources)\n",
    "#afile=r\"temp\\python\\basic1\\tutorial.ipynb\"   \n",
    "afile=r\".\\過程.ipynb\"   \n",
    "\n",
    "fileHasHugoHead(afile)"
   ]
  },
  {
   "cell_type": "code",
   "execution_count": null,
   "metadata": {},
   "outputs": [],
   "source": []
  }
 ],
 "metadata": {
  "kernelspec": {
   "display_name": "Python 3",
   "language": "python",
   "name": "python3"
  },
  "language_info": {
   "codemirror_mode": {
    "name": "ipython",
    "version": 3
   },
   "file_extension": ".py",
   "mimetype": "text/x-python",
   "name": "python",
   "nbconvert_exporter": "python",
   "pygments_lexer": "ipython3",
   "version": "3.12.6"
  }
 },
 "nbformat": 4,
 "nbformat_minor": 2
}
