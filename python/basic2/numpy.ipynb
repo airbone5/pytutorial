{
 "cells": [
  {
   "cell_type": "code",
   "execution_count": 4,
   "metadata": {},
   "outputs": [
    {
     "name": "stdout",
     "output_type": "stream",
     "text": [
      "[[1 2]\n",
      " [3 4]]\n",
      "[[11 12]\n",
      " [13 14]]\n",
      "[[37 40]\n",
      " [85 92]]\n",
      "[[37 40]\n",
      " [85 92]]\n",
      "[[37 40]\n",
      " [85 92]]\n"
     ]
    }
   ],
   "source": [
    "#import matplotlib.pyplot as plt\n",
    "import numpy as np\n",
    "a = np.array([[1,2],[3,4]])\n",
    "print(a)\n",
    "b = np.array([[11,12],[13,14]])\n",
    "print(b)\n",
    "print(np.dot(a,b))\n",
    "#[[1*11+2*13, 1*12+2*14],[3*11+4*13, 3*12+4*14]]\n",
    "print(np.matmul(a,b))\n",
    "print(a@b)"
   ]
  }
 ],
 "metadata": {
  "kernelspec": {
   "display_name": "prj",
   "language": "python",
   "name": "python3"
  },
  "language_info": {
   "codemirror_mode": {
    "name": "ipython",
    "version": 3
   },
   "file_extension": ".py",
   "mimetype": "text/x-python",
   "name": "python",
   "nbconvert_exporter": "python",
   "pygments_lexer": "ipython3",
   "version": "3.12.6"
  }
 },
 "nbformat": 4,
 "nbformat_minor": 2
}
