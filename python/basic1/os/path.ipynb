{
 "cells": [
  {
   "cell_type": "raw",
   "metadata": {},
   "source": [
    "---\n",
    "title: 檔案處理\n",
    "description: path\n",
    "tags: []\n",
    "categories: []\n",
    "series: []\n",
    "editext: ipynb\n",
    "---\n",
    "<!--more-->"
   ]
  },
  {
   "cell_type": "markdown",
   "metadata": {},
   "source": [
    "List Files in a Directory Using Os Module in Python\n",
    "We can use these 3 methods of the OS module, to get a list of files in a directory.\n",
    "\n",
    "- os.listdir() Method\n",
    "- os.walk() Method\n",
    "- os.scandir() Method"
   ]
  },
  {
   "cell_type": "code",
   "execution_count": null,
   "metadata": {},
   "outputs": [],
   "source": [
    "import os"
   ]
  },
  {
   "cell_type": "code",
   "execution_count": 4,
   "metadata": {},
   "outputs": [
    {
     "data": {
      "text/plain": [
       "['desktop.ini', 'Docker Desktop.lnk']"
      ]
     },
     "execution_count": 4,
     "metadata": {},
     "output_type": "execute_result"
    }
   ],
   "source": [
    "\n",
    "## 不指定參數就是current dir\n",
    "os.listdir()\n",
    "## 指定參數\n",
    "path = \"C://Users//linchao//Desktop\"\n",
    "os.listdir(path)\n"
   ]
  },
  {
   "cell_type": "code",
   "execution_count": 5,
   "metadata": {},
   "outputs": [
    {
     "name": "stdout",
     "output_type": "stream",
     "text": [
      "Files and directories in ' C://Users//linchao//Desktop ' :\n",
      "['desktop.ini', 'Docker Desktop.lnk']\n"
     ]
    }
   ],
   "source": [
    "# 結果看起來和上面一樣,但是在py中,上面程式碼不會出現結果,這裡利用print\n",
    "# 輸出\n",
    "dir_list=os.listdir(path)\n",
    "\n",
    "print(\"Files and directories in '\", path, \"' :\")\n",
    "print(dir_list)"
   ]
  },
  {
   "cell_type": "code",
   "execution_count": 3,
   "metadata": {},
   "outputs": [
    {
     "data": {
      "text/plain": [
       "'d:\\\\work\\\\python\\\\basic1_os'"
      ]
     },
     "execution_count": 3,
     "metadata": {},
     "output_type": "execute_result"
    }
   ],
   "source": [
    "os.getcwd()"
   ]
  },
  {
   "cell_type": "code",
   "execution_count": 2,
   "metadata": {},
   "outputs": [
    {
     "data": {
      "text/plain": [
       "'d:\\\\work\\\\python\\\\basic1_os'"
      ]
     },
     "execution_count": 2,
     "metadata": {},
     "output_type": "execute_result"
    }
   ],
   "source": [
    "os.path.abspath(os.getcwd())"
   ]
  },
  {
   "cell_type": "code",
   "execution_count": 8,
   "metadata": {},
   "outputs": [
    {
     "data": {
      "text/plain": [
       "'.'"
      ]
     },
     "execution_count": 8,
     "metadata": {},
     "output_type": "execute_result"
    }
   ],
   "source": [
    "os.path.relpath(os.getcwd()) # 結果出現一點,代表getcwd()拿到的當前目錄,就是 `工作子目錄`."
   ]
  },
  {
   "cell_type": "code",
   "execution_count": 13,
   "metadata": {},
   "outputs": [
    {
     "data": {
      "text/plain": [
       "(('.',\n",
       "  [],\n",
       "  ['closeenv.bat',\n",
       "   'demo_read_1.py',\n",
       "   'demo_read_2.py',\n",
       "   'list_file.ipynb',\n",
       "   'readme.md',\n",
       "   'requirements.txt',\n",
       "   'runenv.bat']),)"
      ]
     },
     "execution_count": 13,
     "metadata": {},
     "output_type": "execute_result"
    }
   ],
   "source": [
    "tuple(os.walk('.'))"
   ]
  },
  {
   "cell_type": "markdown",
   "metadata": {},
   "source": [
    "```\n",
    "(('.', 🏷️根目錄\n",
    "  [], 🏷️子目錄\n",
    "  ['closeenv.bat', 🏷️檔案\n",
    "   'demo_read_1.py',\n",
    "   'demo_read_2.py',\n",
    "   'list_file.ipynb',\n",
    "   'readme.md',\n",
    "   'requirements.txt',\n",
    "   'runenv.bat']),)\n",
    "```   "
   ]
  },
  {
   "cell_type": "code",
   "execution_count": 11,
   "metadata": {},
   "outputs": [
    {
     "name": "stdout",
     "output_type": "stream",
     "text": [
      ".\\closeenv.bat\n",
      ".\\demo_read_1.py\n",
      ".\\demo_read_2.py\n",
      ".\\list_file.ipynb\n",
      ".\\readme.md\n",
      ".\\requirements.txt\n",
      ".\\runenv.bat\n"
     ]
    }
   ],
   "source": [
    "#import os\n",
    "path='.'\n",
    "for folder, subfolders, filenames in os.walk(path, topdown=True):\n",
    "    for subfolder in subfolders:\n",
    "        for filename in filenames:\n",
    "            list=list +[os.path.join(folder,subfolder,filename)]\n",
    "            #print(f'{folder}/{subfolder}內含檔案為：{filename}')\n",
    "print(list)           "
   ]
  },
  {
   "cell_type": "markdown",
   "metadata": {},
   "source": [
    "隱藏資料夾,不要列出"
   ]
  },
  {
   "cell_type": "code",
   "execution_count": null,
   "metadata": {},
   "outputs": [
    {
     "name": "stdout",
     "output_type": "stream",
     "text": [
      ". [] ['list_file.ipynb', 'readme.md', '_index.md']\n"
     ]
    }
   ],
   "source": [
    "\n",
    "import os\n",
    "\n",
    "for folder, subfolders,filenames in os.walk(\".\", topdown=True):    \n",
    "  subfolders[:] = [d for d in subfolders if not d.startswith('.')]\n",
    "  print(folder,subfolders,filenames)"
   ]
  },
  {
   "cell_type": "markdown",
   "metadata": {},
   "source": [
    "### 資料夾中某個檔案類型是否存在"
   ]
  },
  {
   "cell_type": "code",
   "execution_count": 1,
   "metadata": {},
   "outputs": [
    {
     "name": "stdout",
     "output_type": "stream",
     "text": [
      "true\n"
     ]
    }
   ],
   "source": [
    "import os\n",
    "if any(File.endswith(\".ipynb\") for File in os.listdir(\".\")):\n",
    "    print(\"true\")\n",
    "else:\n",
    "    print(\"false\")"
   ]
  },
  {
   "cell_type": "code",
   "execution_count": null,
   "metadata": {},
   "outputs": [
    {
     "data": {
      "text/plain": [
       "[True, False, False]"
      ]
     },
     "execution_count": 2,
     "metadata": {},
     "output_type": "execute_result"
    }
   ],
   "source": [
    "#續:程式碼解釋\n",
    "import os\n",
    "x= [File.endswith(\".ipynb\") for File in os.listdir(\".\")]\n",
    "x\n"
   ]
  },
  {
   "cell_type": "markdown",
   "metadata": {},
   "source": [
    "## 內建的路徑物件"
   ]
  },
  {
   "cell_type": "code",
   "execution_count": 18,
   "metadata": {},
   "outputs": [
    {
     "data": {
      "text/plain": [
       "'\\\\home\\\\window\\\\xx'"
      ]
     },
     "execution_count": 18,
     "metadata": {},
     "output_type": "execute_result"
    }
   ],
   "source": [
    "from pathlib import Path\n",
    "p = Path('/home/window')\n",
    "#p WindowsPath('/home/window')\n",
    "p=p / 'xx'  #注意看上一行,P不是字串,而是一個WindowsPath物件 這裡的除號會被p這個物件解讀為增加路徑\n",
    "str(p)"
   ]
  },
  {
   "cell_type": "code",
   "execution_count": 21,
   "metadata": {},
   "outputs": [
    {
     "data": {
      "text/plain": [
       "WindowsPath('window/xx')"
      ]
     },
     "execution_count": 21,
     "metadata": {},
     "output_type": "execute_result"
    }
   ],
   "source": [
    "# 找到相對路徑\n",
    "p.relative_to(Path('/home'))\n"
   ]
  }
 ],
 "metadata": {
  "kernelspec": {
   "display_name": "Python 3",
   "language": "python",
   "name": "python3"
  },
  "language_info": {
   "codemirror_mode": {
    "name": "ipython",
    "version": 3
   },
   "file_extension": ".py",
   "mimetype": "text/x-python",
   "name": "python",
   "nbconvert_exporter": "python",
   "pygments_lexer": "ipython3",
   "version": "3.12.6"
  }
 },
 "nbformat": 4,
 "nbformat_minor": 2
}
