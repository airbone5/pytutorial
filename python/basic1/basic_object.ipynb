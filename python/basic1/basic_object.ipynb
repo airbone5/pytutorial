{
 "cells": [
  {
   "cell_type": "markdown",
   "metadata": {},
   "source": [
    "下面是一個簡單的物件範例,裡面的函數至少都要給一個`self`不能是空的。"
   ]
  },
  {
   "cell_type": "code",
   "execution_count": 8,
   "metadata": {},
   "outputs": [
    {
     "name": "stdout",
     "output_type": "stream",
     "text": [
      "hello\n"
     ]
    }
   ],
   "source": [
    "# import builtins\n",
    "# from collections.abc import Callable\n",
    "# from typing import Any, overload, Literal\n",
    "\n",
    "class Person:\n",
    "    def __init__(self):\n",
    "      self.name=\"me\"\n",
    "    def hello(self):\n",
    "       print(\"hello\")\n",
    "# class Person1:\n",
    "#     def __init__(self, name, age):\n",
    "#         self.name = name\n",
    "#         self.age = age\n",
    "\n",
    "#_x : Person\n",
    "_x=Person()\n",
    "_x.hello()"
   ]
  }
 ],
 "metadata": {
  "kernelspec": {
   "display_name": "Python 3",
   "language": "python",
   "name": "python3"
  },
  "language_info": {
   "codemirror_mode": {
    "name": "ipython",
    "version": 3
   },
   "file_extension": ".py",
   "mimetype": "text/x-python",
   "name": "python",
   "nbconvert_exporter": "python",
   "pygments_lexer": "ipython3",
   "version": "3.12.6"
  }
 },
 "nbformat": 4,
 "nbformat_minor": 2
}
