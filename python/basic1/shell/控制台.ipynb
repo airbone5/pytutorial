{
 "cells": [
  {
   "cell_type": "markdown",
   "metadata": {},
   "source": [
    "## 目的\n",
    "- 主控台\n",
    "- 主控台命令\n",
    "- 主控台批次命令`bat`\n",
    "### 常見命令\n",
    ". `where` 找出某個程式的位置:如果是cmd:`where`如果是sh: `which`\n",
    ". `cd`\n",
    ". `dir`\n",
    ". `rmdir`\n",
    ". `mkdir`\n",
    ". `ren`\n",
    ". `del`\n"
   ]
  },
  {
   "cell_type": "code",
   "execution_count": 1,
   "metadata": {},
   "outputs": [
    {
     "name": "stdout",
     "output_type": "stream",
     "text": [
      "C:\\Users\\linchao\\AppData\\Local\\Programs\\Python\\Python312\\Scripts\\jupyter.exe\n"
     ]
    }
   ],
   "source": [
    "!where jupyter"
   ]
  },
  {
   "cell_type": "markdown",
   "metadata": {},
   "source": [
    "shell 中的變數的解釋\n",
    "```\n",
    "set x=dir\n",
    "echo %x%\n",
    "%x%\n",
    "```\n",
    "上面程式碼的解釋\n",
    "1. `set x=dir`設定變數x的內容是`dir`\n",
    "1. 拿到變數的內容左右兩邊都是`%` 例如`%x%`"
   ]
  },
  {
   "cell_type": "markdown",
   "metadata": {},
   "source": [
    "目前的檔案結構\n",
    "```bash\n",
    "%%bash \n",
    "tree \n",
    "```\n",
    "執行結果(下面第一行的`.` 代表目前的工作目錄在這裡`echo %CD%`)\n",
    "```\n",
    ". \n",
    "├── ex\n",
    "│   └── say.bat               🏷️要執行這個\n",
    "(省略)\n",
    "├── program_option_1.py\n",
    "├── program_option_2.py\n",
    "└── 環境互動.ipynb\n",
    "\n",
    "5 directories, 24 files\n",
    "```"
   ]
  },
  {
   "cell_type": "code",
   "execution_count": 48,
   "metadata": {},
   "outputs": [
    {
     "name": "stdout",
     "output_type": "stream",
     "text": [
      "d:\\work\\python\\basic1\n"
     ]
    }
   ],
   "source": [
    "!echo %CD%"
   ]
  },
  {
   "cell_type": "markdown",
   "metadata": {},
   "source": [
    "預設路徑"
   ]
  },
  {
   "cell_type": "code",
   "execution_count": null,
   "metadata": {},
   "outputs": [
    {
     "name": "stdout",
     "output_type": "stream",
     "text": [
      "c:\\Users\\linchao\\AppData\\Local\\Programs\\Python\\Python312;c:\\Users\\linchao\\AppData\\Roaming\\Python\\Python312\\Scripts;C:\\WINDOWS\\system32;C:\\WINDOWS;C:\\WINDOWS\\System32\\Wbem;C:\\WINDOWS\\System32\\WindowsPowerShell\\v1.0\\;C:\\WINDOWS\\System32\\OpenSSH\\;C:\\ProgramData\\chocolatey\\bin;C:\\Program Files\\Git\\cmd;C:\\Program Files\\Docker\\Docker\\resources\\bin;C:\\Users\\linchao\\AppData\\Local\\Programs\\Python\\Python312\\Scripts\\;C:\\Users\\linchao\\AppData\\Local\\Programs\\Python\\Python312\\;C:\\Users\\linchao\\AppData\\Local\\Programs\\Python\\Launcher\\;C:\\Users\\linchao\\AppData\\Local\\Microsoft\\WindowsApps;C:\\Users\\linchao\\AppData\\Local\\Programs\\Microsoft VS Code\\bin;C:\\Users\\linchao\\AppData\\Local\\Programs\\Ollama;;C:\\WINDOWS\\system32;C:\\WINDOWS;C:\\WINDOWS\\System32\\Wbem;C:\\WINDOWS\\System32\\WindowsPowerShell\\v1.0\\;C:\\WINDOWS\\System32\\OpenSSH\\;C:\\ProgramData\\chocolatey\\bin;C:\\Program Files\\Git\\cmd;C:\\Program Files\\Docker\\Docker\\resources\\bin;C:\\Users\\linchao\\AppData\\Local\\Programs\\Python\\Python312\\Scripts\\;C:\\Users\\linchao\\AppData\\Local\\Programs\\Python\\Python312\\;C:\\Users\\linchao\\AppData\\Local\\Programs\\Python\\Launcher\\;C:\\Users\\linchao\\AppData\\Local\\Microsoft\\WindowsApps;C:\\Users\\linchao\\AppData\\Local\\Programs\\Microsoft VS Code\\bin;C:\\Users\\linchao\\AppData\\Local\\Programs\\Ollama;\n"
     ]
    }
   ],
   "source": [
    "!echo %PATH%"
   ]
  },
  {
   "cell_type": "markdown",
   "metadata": {},
   "source": [
    "因為上面的預設路徑,沒有包含`%CD%\\xx` 因此會抱怨找不到say.bat"
   ]
  },
  {
   "cell_type": "code",
   "execution_count": 34,
   "metadata": {},
   "outputs": [
    {
     "name": "stdout",
     "output_type": "stream",
     "text": [
      "Microsoft Windows [Version 10.0.22631.4317]\n",
      "(c) Microsoft Corporation. All rights reserved.\n",
      "\n",
      "d:\\work\\python\\basic1>@echo off\n",
      "rem #!chcp 65001\n",
      "say\n"
     ]
    },
    {
     "name": "stderr",
     "output_type": "stream",
     "text": [
      "'say' is not recognized as an internal or external command,\n",
      "operable program or batch file.\n"
     ]
    }
   ],
   "source": [
    "%%cmd\n",
    "@echo off\n",
    "rem #chcp 65001\n",
    "say"
   ]
  },
  {
   "cell_type": "code",
   "execution_count": 12,
   "metadata": {},
   "outputs": [
    {
     "name": "stdout",
     "output_type": "stream",
     "text": [
      "d:\\work\\python\\basic1\\ex\n"
     ]
    }
   ],
   "source": [
    "!echo %CD%\\ex"
   ]
  },
  {
   "cell_type": "code",
   "execution_count": 4,
   "metadata": {},
   "outputs": [
    {
     "name": "stdout",
     "output_type": "stream",
     "text": [
      "Microsoft Windows [���� 10.0.22631.4317]\n",
      "(c) Microsoft Corporation. �ۧ@�v�Ҧ��A�ëO�d�@���v�Q�C\n",
      "\n",
      "d:\\work\\python\\basic1>@echo off\n",
      "set PATH=%PATH%;%CD%\\ex\n",
      "say\n",
      "hello\n"
     ]
    }
   ],
   "source": [
    "%%cmd\n",
    "@echo off\n",
    "set PATH=%PATH%;%CD%\\ex\n",
    "say"
   ]
  },
  {
   "cell_type": "markdown",
   "metadata": {},
   "source": [
    "## 問題\n",
    "```\n",
    ". (假設目前的工作目錄是c:\\temp)\n",
    "├── ex\n",
    "│   └── say.bat               🏷️要執行這個\n",
    "├── cos.exe\n",
    "└── sin.exe\n",
    "```\n",
    "如果目前的預設路徑%path% 是 \"c:\\program files;c:\\windows\" 那麼在控制台上直下面命令會出現甚麼結果?\n",
    "1. sin\n",
    "1. say"
   ]
  },
  {
   "cell_type": "markdown",
   "metadata": {},
   "source": [
    "## batch\n",
    "先看[檔案](./ex/arg1.bat)的內容"
   ]
  },
  {
   "cell_type": "code",
   "execution_count": 3,
   "metadata": {},
   "outputs": [
    {
     "name": "stdout",
     "output_type": "stream",
     "text": [
      "@echo off\n",
      "if \"%1\"==\"\" (\n",
      "    echo wrong\n",
      ") else (\n",
      "    echo nice, you have argument %1\n",
      ")\n"
     ]
    }
   ],
   "source": [
    "!type ex\\arg1.bat"
   ]
  }
 ],
 "metadata": {
  "kernelspec": {
   "display_name": "Python 3",
   "language": "python",
   "name": "python3"
  },
  "language_info": {
   "codemirror_mode": {
    "name": "ipython",
    "version": 3
   },
   "file_extension": ".py",
   "mimetype": "text/x-python",
   "name": "python",
   "nbconvert_exporter": "python",
   "pygments_lexer": "ipython3",
   "version": "3.12.6"
  }
 },
 "nbformat": 4,
 "nbformat_minor": 2
}
