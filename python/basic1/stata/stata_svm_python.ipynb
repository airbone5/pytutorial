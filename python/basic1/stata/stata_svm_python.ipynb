{
 "cells": [
  {
   "cell_type": "code",
   "execution_count": 1,
   "metadata": {},
   "outputs": [
    {
     "name": "stdout",
     "output_type": "stream",
     "text": [
      "Terminated 1 unattached Stata session(s).\n"
     ]
    }
   ],
   "source": [
    "import ipystata"
   ]
  },
  {
   "cell_type": "markdown",
   "metadata": {},
   "source": [
    "> note: 如果使用`pystata`\n",
    ">\n",
    ">  ```python\n",
    ">  import stata_setup\n",
    ">  stata_setup.config(r'c:/program files/stata17', 'mp',splash=False)\n",
    ">  ```"
   ]
  },
  {
   "cell_type": "markdown",
   "metadata": {},
   "source": [
    "We will be using data from the United States National Health and Nutrition Examination Survey (NHANES). Specifically, we will be using the variables age from the [demographic](https://wwwn.cdc.gov/nchs/nhanes/search/datapage.aspx?Component=Demographics&CycleBeginYear=2015) data,\n",
    "HbA1c from the [glycohemoglobin](https://wwwn.cdc.gov/nchs/nhanes/search/datapage.aspx?Component=Laboratory&CycleBeginYear=2015) data, and [diabetes](https://wwwn.cdc.gov/nchs/nhanes/search/datapage.aspx?Component=Questionnaire&CycleBeginYear=2015) from the diabetes data.\n",
    "\n",
    "\n",
    "```stata\n",
    "import sasxport5 \"https://wwwn.cdc.gov/Nchs/Nhanes/2015-2016/DEMO_I.XPT\", clear\n",
    "save age.dta, replace\n",
    "import sasxport5 \"https://wwwn.cdc.gov/Nchs/Nhanes/2015-2016/GHB_I.XPT\", clear\n",
    "save glucose.dta, replace\n",
    "import sasxport5 \"https://wwwn.cdc.gov/Nchs/Nhanes/2015-2016/DIQ_I.XPT\", clear\n",
    "```\n",
    "note \n",
    "歸納起來應該是2015是`I`例如`https://wwwn.cdc.gov/nchs/nhanes/search/datapage.aspx?Component=Demographics&CycleBeginYear=2015` 改後面的2015為2013那就是後面的程式碼,2013 是`H`結尾"
   ]
  },
  {
   "cell_type": "code",
   "execution_count": 2,
   "metadata": {},
   "outputs": [
    {
     "name": "stdout",
     "output_type": "stream",
     "text": [
      "\n",
      "(file age.dta not found)\n",
      "file age.dta saved\n",
      "\n",
      "(file glucose.dta not found)\n",
      "file glucose.dta saved\n",
      "\n",
      "(file diabetes.dta not found)\n",
      "file diabetes.dta saved\n",
      "\n",
      "    Result                      Number of obs\n",
      "    -----------------------------------------\n",
      "    Not matched                         2,791\n",
      "        from master                     2,791  (_merge==1)\n",
      "        from using                          0  (_merge==2)\n",
      "\n",
      "    Matched                             6,979  (_merge==3)\n",
      "    -----------------------------------------\n",
      "\n",
      "    Result                      Number of obs\n",
      "    -----------------------------------------\n",
      "    Not matched                           405\n",
      "        from master                         0  (_merge==1)\n",
      "        from using                        405  (_merge==2)\n",
      "\n",
      "    Matched                             9,770  (_merge==3)\n",
      "    -----------------------------------------\n",
      "\n",
      "(9,031 changes made to diabetes)\n",
      "\n",
      "(3,537 observations deleted)\n",
      "\n",
      "file diabetes.dta saved\n",
      "\n",
      "/ is not a valid command name\n",
      "r(199);\n",
      "\n",
      "/ is not a valid command name\n",
      "r(199);\n",
      "\n"
     ]
    }
   ],
   "source": [
    "%%stata\n",
    "                  \n",
    "import sasxport5 \"https://wwwn.cdc.gov/Nchs/Data/Nhanes/Public/2013/DataFiles/DEMO_H.xpt\", clear\n",
    "save age.dta, replace\n",
    "import sasxport5 \"https://wwwn.cdc.gov/Nchs/Data/Nhanes/Public/2013/DataFiles/GHB_H.xpt\",clear\n",
    "\n",
    "save glucose.dta, replace\n",
    "import sasxport5 \"https://wwwn.cdc.gov/Nchs/Data/Nhanes/Public/2013/DataFiles/DIQ_H.xpt\", clear\n",
    "save diabetes, replace\n",
    "\n",
    "merge 1:1 seqn using \"glucose.dta\"\n",
    "drop _merge\n",
    "merge 1:1 seqn using \"age.dta\"\n",
    "\n",
    "rename ridageyr age\n",
    "rename lbxgh HbA1c\n",
    "rename diq010 diabetes\n",
    "recode diabetes (1 = 1) (2/3 = 0) (9=.)\n",
    "\n",
    "keep diabetes age HbA1c\n",
    "drop if missing(diabetes, age, HbA1c)\n",
    "save diabetes, replace\n",
    "\n",
    "//erase age.dta\n",
    "//erase glucose.dta"
   ]
  },
  {
   "cell_type": "code",
   "execution_count": 3,
   "metadata": {},
   "outputs": [
    {
     "name": "stdout",
     "output_type": "stream",
     "text": [
      "\n",
      "     +------------------------+\n",
      "     | diabetes   HbA1c   age |\n",
      "     |------------------------|\n",
      "  1. |        1    13.9    69 |\n",
      "  2. |        1     9.1    54 |\n",
      "  3. |        1     8.9    72 |\n",
      "  4. |        0     4.9    73 |\n",
      "  5. |        0     5.5    56 |\n",
      "     +------------------------+\n",
      "\n",
      "Doctor told |\n",
      "   you have |\n",
      "   diabetes |      Freq.     Percent        Cum.\n",
      "------------+-----------------------------------\n",
      "          0 |      5,950       89.64       89.64\n",
      "          1 |        688       10.36      100.00\n",
      "------------+-----------------------------------\n",
      "      Total |      6,638      100.00\n",
      "\n"
     ]
    }
   ],
   "source": [
    "%%stata\n",
    "list in 1/5\n",
    "tabulate diabetes"
   ]
  },
  {
   "cell_type": "code",
   "execution_count": 4,
   "metadata": {},
   "outputs": [
    {
     "name": "stdout",
     "output_type": "stream",
     "text": [
      "----------------------------------------------- python (type end to exit) -------\n",
      "  File \"<stdin>\", line 3\n",
      "    cmap = mcolors.ListedColormap([\"navy\", \"darkred\"]))\n",
      "                                                       ^\n",
      "SyntaxError: multiple statements found while compiling a single statement\n",
      "---------------------------------------------------------------------------------\n",
      "r(7102);\n",
      "\n",
      "plt.ylabel is not a valid command name\n",
      "r(199);\n",
      "\n",
      "plt.xticks is not a valid command name\n",
      "r(199);\n",
      "\n",
      "plt.yticks is not a valid command name\n",
      "r(199);\n",
      "\n",
      "plt.title is not a valid command name\n",
      "r(199);\n",
      "\n",
      "Unknown #command\n",
      "\n",
      "plt.savefig is not a valid command name\n",
      "r(199);\n",
      "\n",
      "command end is unrecognized\n",
      "r(199);\n",
      "\n"
     ]
    }
   ],
   "source": [
    "%%stata\n",
    "python:\n",
    "# Import the necessary packages\n",
    "import pandas as pd\n",
    "import matplotlib.pyplot as plt\n",
    "import matplotlib.colors as mcolors\n",
    "\n",
    "# Read the Stata dataset into Python\n",
    "data = pd.read_stata('diabetes.dta',\n",
    "convert_categoricals=False,\n",
    "preserve_dtypes=True,\n",
    "convert_missing=False)\n",
    "\n",
    "# Define the feature matrix (independent variables)\n",
    "# and the target variable (dependent variable)\n",
    "X = data[['age','HbA1c']]\n",
    "y = data['diabetes']\n",
    "\n",
    "# Plot the raw data\n",
    "plt.scatter(X['age'], X['HbA1c'],\n",
    "c=y,\n",
    "cmap = mcolors.ListedColormap([\"navy\", \"darkred\"]))\n",
    "plt.xlabel('Age (years)')\n",
    "plt.ylabel('HbA1c')\n",
    "plt.xticks((12,20,30,40,50,60,70,80))\n",
    "plt.yticks((4,6,8,10,12,14,16))\n",
    "plt.title('Diabetes status by Age and HbA1c')\n",
    "\n",
    "# Save the graph\n",
    "plt.savefig(\"scatterplot.png\")\n",
    "end"
   ]
  },
  {
   "cell_type": "code",
   "execution_count": 5,
   "metadata": {},
   "outputs": [
    {
     "name": "stdout",
     "output_type": "stream",
     "text": [
      "----------------------------------------------- python (type end to exit) -------\n",
      "---------------------------------------------------------------------------------\n",
      "\n"
     ]
    }
   ],
   "source": [
    "%%stata\n",
    "python:\n",
    "from sklearn.model_selection import train_test_split\n",
    "\n",
    "X_train, X_test, y_train, y_test = train_test_split(X, y, test_size=0.4,\n",
    "random_state=0)\n",
    "end"
   ]
  },
  {
   "cell_type": "code",
   "execution_count": 6,
   "metadata": {},
   "outputs": [
    {
     "name": "stdout",
     "output_type": "stream",
     "text": [
      "----------------------------------------------- python (type end to exit) -------\n",
      "GridSearchCV(cv=10, estimator=SVC(kernel='poly'),\n",
      "             param_grid={'C': [1, 2, 3], 'degree': [1, 2, 3]},\n",
      "             scoring='accuracy')\n",
      "{'C': 3, 'degree': 3}\n",
      "---------------------------------------------------------------------------------\n",
      "\n"
     ]
    }
   ],
   "source": [
    "%%stata\n",
    "\n",
    "python:\n",
    "from sklearn import svm\n",
    "from sklearn.model_selection import cross_val_score\n",
    "from sklearn.model_selection import GridSearchCV\n",
    "\n",
    "# Do a grid search for the parameters \"degree\" and \"C\" using 10-fold\n",
    "# cross-validation\n",
    "model = svm.SVC(kernel='poly')\n",
    "parameters = {'degree':[1,2,3], 'C':[1,2,3]}\n",
    "poly_svc = GridSearchCV(model,\n",
    "parameters,\n",
    "cv=10,\n",
    "scoring='accuracy').fit(X_train, y_train)\n",
    "\n",
    "# Display the parameters that yield the best-fitting model\n",
    "poly_svc.fit(X_train,y_train)\n",
    "print(poly_svc.best_params_)\n",
    "end"
   ]
  }
 ],
 "metadata": {
  "kernelspec": {
   "display_name": "prj",
   "language": "python",
   "name": "python3"
  },
  "language_info": {
   "codemirror_mode": {
    "name": "ipython",
    "version": 3
   },
   "file_extension": ".py",
   "mimetype": "text/x-python",
   "name": "python",
   "nbconvert_exporter": "python",
   "pygments_lexer": "ipython3",
   "version": "3.12.6"
  }
 },
 "nbformat": 4,
 "nbformat_minor": 2
}
