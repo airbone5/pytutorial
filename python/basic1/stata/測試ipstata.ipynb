{
 "cells": [
  {
   "cell_type": "markdown",
   "metadata": {},
   "source": [
    "複製整個ipstata 到當前的目錄成為ipstata2"
   ]
  },
  {
   "cell_type": "code",
   "execution_count": 1,
   "metadata": {},
   "outputs": [
    {
     "name": "stdout",
     "output_type": "stream",
     "text": [
      "IPyStata is loaded in batch mode.\n"
     ]
    }
   ],
   "source": [
    "import ipystata \n",
    "# from ipystata.config import config_stata  \n",
    "# config_stata('c:/program files/stata17/statamp-64.exe')  \n",
    " "
   ]
  },
  {
   "cell_type": "code",
   "execution_count": 2,
   "metadata": {},
   "outputs": [
    {
     "data": {
      "text/plain": [
       "'Failed to open Stata'"
      ]
     },
     "execution_count": 2,
     "metadata": {},
     "output_type": "execute_result"
    }
   ],
   "source": [
    "%%stata\n",
    "\n",
    "sysuse auto\n",
    "sum\n"
   ]
  },
  {
   "cell_type": "markdown",
   "metadata": {},
   "source": [
    "執行\n",
    "```stata\n",
    "sysuse auto\n",
    "sum\n",
    "```\n",
    "的原始結果是\n",
    "```\n",
    "      name:  <unnamed>\n",
    "       log:  C:\\Users\\linchao\\.ipython\\stata\\log_main.txt\n",
    "  log type:  text\n",
    " opened on:  30 Dec 2024, 15:07:36\n",
    "\n",
    ". set more off\n",
    "\n",
    ". sysuse auto\n",
    "(1978 automobile data)\n",
    "\n",
    ". sum\n",
    "\n",
    "    Variable |        Obs        Mean    Std. dev.       Min        Max\n",
    "-------------+---------------------------------------------------------\n",
    "        make |          0\n",
    "       price |         74    6165.257    2949.496       3291      15906\n",
    "         mpg |         74     21.2973    5.785503         12         41\n",
    "       rep78 |         69    3.405797    .9899323          1          5\n",
    "    headroom |         74    2.993243    .8459948        1.5          5\n",
    "-------------+---------------------------------------------------------\n",
    "       trunk |         74    13.75676    4.277404          5         23\n",
    "      weight |         74    3019.459    777.1936       1760       4840\n",
    "      length |         74    187.9324    22.26634        142        233\n",
    "        turn |         74    39.64865    4.399354         31         51\n",
    "displacement |         74    197.2973    91.83722         79        425\n",
    "-------------+---------------------------------------------------------\n",
    "  gear_ratio |         74    3.014865    .4562871       2.19       3.89\n",
    "     foreign |         74    .2972973    .4601885          0          1\n",
    "```\n",
    "\n",
    "### %%stata的args\n",
    "%%stata 啟動沒有加餐數的時候,設定如下\n",
    "```\n",
    "args: input=None, data=None, output=None, noprint=False, openstata=False, session='main', changewd=False, getmacro=None, mata=False, width=1000, height=800, graph=False, nograph=False\n",
    "```"
   ]
  }
 ],
 "metadata": {
  "kernelspec": {
   "display_name": "prj",
   "language": "python",
   "name": "python3"
  },
  "language_info": {
   "codemirror_mode": {
    "name": "ipython",
    "version": 3
   },
   "file_extension": ".py",
   "mimetype": "text/x-python",
   "name": "python",
   "nbconvert_exporter": "python",
   "pygments_lexer": "ipython3",
   "version": "3.12.6"
  }
 },
 "nbformat": 4,
 "nbformat_minor": 2
}
