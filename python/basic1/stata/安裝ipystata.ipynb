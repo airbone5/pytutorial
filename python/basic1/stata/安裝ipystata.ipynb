{
 "cells": [
  {
   "cell_type": "markdown",
   "metadata": {},
   "source": [
    "## 安裝步驟\n",
    "1. python 套件\n",
    "    ```python\n",
    "    pip install numpy\n",
    "    pip install pandas\n",
    "    pip install ipystata\n",
    "    ```\n",
    "1. 合併註冊 有兩個方案\n",
    "    \n",
    "  - 雙擊`stata17_all.reg` 只有一個步驟\n",
    "\n",
    "  - 或者 如果不使用上面的檔案合併註冊,那麼\n",
    "\n",
    "    需要\n",
    "    1. 控制台\n",
    "        ```\n",
    "        statamp-64.exe /register\n",
    "        ```\n",
    "    1. 每一個ipynb前面都要如下\n",
    "        ```python\n",
    "        import ipystata\n",
    "        from ipystata.config import config_stata  \n",
    "        config_stata('c:/program files/stata17/statamp-64.exe')  \n",
    "        ```\n",
    "\n",
    "note:\n",
    "`C:\\Users\\[使用者名稱]\\.ipython\\stata\\config\\configuration.ini`裡面的內容\n",
    "```\n",
    "[Stata configuration]\n",
    "installation = c:/program files/stata17\n",
    "force_batch_mode = False   ❌True好像不行\n",
    "enable_syntax_highlight = False\n",
    "\n",
    "```"
   ]
  },
  {
   "cell_type": "code",
   "execution_count": 1,
   "metadata": {},
   "outputs": [
    {
     "name": "stdout",
     "output_type": "stream",
     "text": [
      "Collecting ipystata\n",
      "  Using cached ipystata-0.3.8-py3-none-any.whl\n",
      "Installing collected packages: ipystata\n",
      "Successfully installed ipystata-0.3.8\n",
      "Note: you may need to restart the kernel to use updated packages.\n"
     ]
    }
   ],
   "source": [
    "%pip install ipystata"
   ]
  },
  {
   "cell_type": "markdown",
   "metadata": {},
   "source": [
    "## 測試是否安裝成功"
   ]
  },
  {
   "cell_type": "code",
   "execution_count": 1,
   "metadata": {},
   "outputs": [
    {
     "name": "stdout",
     "output_type": "stream",
     "text": [
      "Terminated 1 unattached Stata session(s).\n"
     ]
    }
   ],
   "source": [
    "import ipystata"
   ]
  },
  {
   "cell_type": "code",
   "execution_count": 2,
   "metadata": {},
   "outputs": [
    {
     "name": "stdout",
     "output_type": "stream",
     "text": [
      "\n",
      "(1978 automobile data)\n",
      "\n",
      "    Variable |        Obs        Mean    Std. dev.       Min        Max\n",
      "-------------+---------------------------------------------------------\n",
      "        make |          0\n",
      "       price |         74    6165.257    2949.496       3291      15906\n",
      "         mpg |         74     21.2973    5.785503         12         41\n",
      "       rep78 |         69    3.405797    .9899323          1          5\n",
      "    headroom |         74    2.993243    .8459948        1.5          5\n",
      "-------------+---------------------------------------------------------\n",
      "       trunk |         74    13.75676    4.277404          5         23\n",
      "      weight |         74    3019.459    777.1936       1760       4840\n",
      "      length |         74    187.9324    22.26634        142        233\n",
      "        turn |         74    39.64865    4.399354         31         51\n",
      "displacement |         74    197.2973    91.83722         79        425\n",
      "-------------+---------------------------------------------------------\n",
      "  gear_ratio |         74    3.014865    .4562871       2.19       3.89\n",
      "     foreign |         74    .2972973    .4601885          0          1\n",
      "\n"
     ]
    }
   ],
   "source": [
    "%%stata\n",
    "sysuse auto\n",
    "sum"
   ]
  },
  {
   "cell_type": "markdown",
   "metadata": {},
   "source": [
    "##  中文的問題:\n",
    "```python\n",
    "    def process_log(self, log):\n",
    "        #mynote: -1+1\n",
    "        #with open(log, 'r+') as log_file:\n",
    "        with open(log, 'r+', encoding=\"utf-8\") as log_file:\n",
    "            code = log_file.read()\n",
    "            # Remove horizontal line at the beginning of flie\n",
    "            code = re.sub(r\"^-*\\n\", \"\", code)\n",
    "            # Remove other lines from the beginning of flie\n",
    "            code = re.sub(r\"\\s*name: *.*?\\n+\", \"\", code)\n",
    "            code = re.sub(r\"\\s*log: *.*?\\n+\", \"\", code)\n",
    "            code = re.sub(r\"\\s*log type: *.*?\\n+\", \"\", code)\n",
    "            code = re.sub(r\"\\s*opened on: *.*?\\n+\", \"\", code)\n",
    "            code = re.sub(r\"\\s*closed on: *.*?\\n+\", \"\", code)\n",
    "            code = re.sub(r\"\\s*closed on: *.*?\\n+\", \"\", code)\n",
    "            # Remove mata commands\n",
    "            code = re.sub(r\"(?m)^\\.\\smata.*\\n.*\\n+\", \"\\n\", code)\n",
    "            code = re.sub(r\"(?m)^\\:\\send.*\\n.*\\n+\", \"\", code)\n",
    "            code = re.sub(r\"(?m)^\\:\\s.*\\n+\", \"\", code)\n",
    "            # Match lines beginning with period\n",
    "            code = re.sub(r\"(?m)^\\.[^{}\\n]+(?:\\{[^{}]*\\})?\\n\", \"\", code)\n",
    "            # Match lines beginning with >\n",
    "            code = re.sub(r\"(?m)^\\>.*\\n+\", \"\", code)\n",
    "            # Remove multiple new lines from the end of file\n",
    "            code = re.sub(r\"\\n+$\", \"\\n\", code)\n",
    "            # Remove multiple new lines from the beginning of the file\n",
    "            code = re.sub(r\"^\\n+\", \"\\n\", code)\n",
    "            # Remove multiple intermediate new lines\n",
    "            code = re.sub(r'\\n{3,}', \"\\n\\n\", code)\n",
    "            log_file.truncate(0)\n",
    "        return code\n",
    "```        "
   ]
  },
  {
   "cell_type": "markdown",
   "metadata": {},
   "source": [
    "## demo"
   ]
  },
  {
   "cell_type": "code",
   "execution_count": 1,
   "metadata": {},
   "outputs": [
    {
     "name": "stdout",
     "output_type": "stream",
     "text": [
      "IPyStata is loaded in batch mode.\n"
     ]
    }
   ],
   "source": [
    "import ipystata\n",
    "from ipystata.config import config_stata  \n",
    "config_stata('c:/program files/stata17/statamp-64.exe', force_batch=True) #如果要//註解可以作用,要這行"
   ]
  },
  {
   "cell_type": "code",
   "execution_count": 2,
   "metadata": {},
   "outputs": [
    {
     "name": "stdout",
     "output_type": "stream",
     "text": [
      "\u001b[1;31mDocstring:\u001b[0m\n",
      "::\n",
      "\n",
      "  %stata [-i INPUT] [-d DATA] [-o OUTPUT] [-np] [-cwd CHANGEWD] [-gr]\n",
      "             [-os] [-cl]\n",
      "\n",
      "options:\n",
      "  -i INPUT, --input INPUT\n",
      "                        This is an input argument.\n",
      "  -d DATA, --data DATA  This is the data input argument.\n",
      "  -o OUTPUT, --output OUTPUT\n",
      "                        This is the output argument.\n",
      "  -np, --noprint        Force the magic to not return an output.\n",
      "  -cwd CHANGEWD, --changewd CHANGEWD\n",
      "                        Define a working directory for the Stata session.\n",
      "  -gr, --graph          This will classify the Stata cell as one that returns\n",
      "                        a graph.\n",
      "  -os, --openstata      Open Stata.\n",
      "  -cl, --close          Tries (!) to auto-close Stata\n",
      "\u001b[1;31mFile:\u001b[0m      c:\\pywork\\python\\basic1\\stata\\prj\\lib\\site-packages\\ipystata\\ipystata_magic_batch.py"
     ]
    }
   ],
   "source": [
    "%%stata?\n",
    " "
   ]
  },
  {
   "cell_type": "code",
   "execution_count": 2,
   "metadata": {},
   "outputs": [
    {
     "name": "stdout",
     "output_type": "stream",
     "text": [
      "\n",
      "    Variable |        Obs        Mean    Std. dev.       Min        Max\n",
      "-------------+---------------------------------------------------------\n",
      "       admit |        400       .3175    .4660867          0          1\n",
      "         gre |        400       587.7    115.5165        220        800\n",
      "         gpa |        400      3.3899    .3805668       2.26          4\n",
      "        rank |        400       2.485    .9444602          1          4\n"
     ]
    },
    {
     "data": {
      "text/html": [
       "\n",
       "        <iframe\n",
       "            width=\"700\"\n",
       "            height=\"400\"\n",
       "            src=\"./temp_graph.pdf\"\n",
       "            frameborder=\"0\"\n",
       "            allowfullscreen\n",
       "            \n",
       "        ></iframe>\n",
       "        "
      ],
      "text/plain": [
       "<IPython.lib.display.IFrame at 0x2033250df70>"
      ]
     },
     "execution_count": 2,
     "metadata": {},
     "output_type": "execute_result"
    }
   ],
   "source": [
    "%%stata -gr\n",
    "use https://stats.idre.ucla.edu/stat/stata/dae/binary.dta, clear\n",
    "sum\n",
    "graph twoway function y=exp(x)/(1+exp(x)), range(-10 10)"
   ]
  },
  {
   "cell_type": "code",
   "execution_count": 2,
   "metadata": {},
   "outputs": [
    {
     "name": "stdout",
     "output_type": "stream",
     "text": [
      "\n",
      "(1978 automobile data)\n"
     ]
    }
   ],
   "source": [
    "%%stata -o car_df\n",
    "sysuse auto.dta"
   ]
  },
  {
   "cell_type": "code",
   "execution_count": 3,
   "metadata": {},
   "outputs": [
    {
     "data": {
      "text/html": [
       "<div>\n",
       "<style scoped>\n",
       "    .dataframe tbody tr th:only-of-type {\n",
       "        vertical-align: middle;\n",
       "    }\n",
       "\n",
       "    .dataframe tbody tr th {\n",
       "        vertical-align: top;\n",
       "    }\n",
       "\n",
       "    .dataframe thead th {\n",
       "        text-align: right;\n",
       "    }\n",
       "</style>\n",
       "<table border=\"1\" class=\"dataframe\">\n",
       "  <thead>\n",
       "    <tr style=\"text-align: right;\">\n",
       "      <th></th>\n",
       "      <th>make</th>\n",
       "      <th>price</th>\n",
       "      <th>mpg</th>\n",
       "      <th>rep78</th>\n",
       "      <th>headroom</th>\n",
       "      <th>trunk</th>\n",
       "      <th>weight</th>\n",
       "      <th>length</th>\n",
       "      <th>turn</th>\n",
       "      <th>displacement</th>\n",
       "      <th>gear_ratio</th>\n",
       "      <th>foreign</th>\n",
       "    </tr>\n",
       "  </thead>\n",
       "  <tbody>\n",
       "    <tr>\n",
       "      <th>0</th>\n",
       "      <td>AMC Concord</td>\n",
       "      <td>4099</td>\n",
       "      <td>22</td>\n",
       "      <td>3.0</td>\n",
       "      <td>2.5</td>\n",
       "      <td>11</td>\n",
       "      <td>2930</td>\n",
       "      <td>186</td>\n",
       "      <td>40</td>\n",
       "      <td>121</td>\n",
       "      <td>3.58</td>\n",
       "      <td>Domestic</td>\n",
       "    </tr>\n",
       "    <tr>\n",
       "      <th>1</th>\n",
       "      <td>AMC Pacer</td>\n",
       "      <td>4749</td>\n",
       "      <td>17</td>\n",
       "      <td>3.0</td>\n",
       "      <td>3.0</td>\n",
       "      <td>11</td>\n",
       "      <td>3350</td>\n",
       "      <td>173</td>\n",
       "      <td>40</td>\n",
       "      <td>258</td>\n",
       "      <td>2.53</td>\n",
       "      <td>Domestic</td>\n",
       "    </tr>\n",
       "    <tr>\n",
       "      <th>2</th>\n",
       "      <td>AMC Spirit</td>\n",
       "      <td>3799</td>\n",
       "      <td>22</td>\n",
       "      <td>NaN</td>\n",
       "      <td>3.0</td>\n",
       "      <td>12</td>\n",
       "      <td>2640</td>\n",
       "      <td>168</td>\n",
       "      <td>35</td>\n",
       "      <td>121</td>\n",
       "      <td>3.08</td>\n",
       "      <td>Domestic</td>\n",
       "    </tr>\n",
       "    <tr>\n",
       "      <th>3</th>\n",
       "      <td>Buick Century</td>\n",
       "      <td>4816</td>\n",
       "      <td>20</td>\n",
       "      <td>3.0</td>\n",
       "      <td>4.5</td>\n",
       "      <td>16</td>\n",
       "      <td>3250</td>\n",
       "      <td>196</td>\n",
       "      <td>40</td>\n",
       "      <td>196</td>\n",
       "      <td>2.93</td>\n",
       "      <td>Domestic</td>\n",
       "    </tr>\n",
       "    <tr>\n",
       "      <th>4</th>\n",
       "      <td>Buick Electra</td>\n",
       "      <td>7827</td>\n",
       "      <td>15</td>\n",
       "      <td>4.0</td>\n",
       "      <td>4.0</td>\n",
       "      <td>20</td>\n",
       "      <td>4080</td>\n",
       "      <td>222</td>\n",
       "      <td>43</td>\n",
       "      <td>350</td>\n",
       "      <td>2.41</td>\n",
       "      <td>Domestic</td>\n",
       "    </tr>\n",
       "    <tr>\n",
       "      <th>...</th>\n",
       "      <td>...</td>\n",
       "      <td>...</td>\n",
       "      <td>...</td>\n",
       "      <td>...</td>\n",
       "      <td>...</td>\n",
       "      <td>...</td>\n",
       "      <td>...</td>\n",
       "      <td>...</td>\n",
       "      <td>...</td>\n",
       "      <td>...</td>\n",
       "      <td>...</td>\n",
       "      <td>...</td>\n",
       "    </tr>\n",
       "    <tr>\n",
       "      <th>69</th>\n",
       "      <td>VW Dasher</td>\n",
       "      <td>7140</td>\n",
       "      <td>23</td>\n",
       "      <td>4.0</td>\n",
       "      <td>2.5</td>\n",
       "      <td>12</td>\n",
       "      <td>2160</td>\n",
       "      <td>172</td>\n",
       "      <td>36</td>\n",
       "      <td>97</td>\n",
       "      <td>3.74</td>\n",
       "      <td>Foreign</td>\n",
       "    </tr>\n",
       "    <tr>\n",
       "      <th>70</th>\n",
       "      <td>VW Diesel</td>\n",
       "      <td>5397</td>\n",
       "      <td>41</td>\n",
       "      <td>5.0</td>\n",
       "      <td>3.0</td>\n",
       "      <td>15</td>\n",
       "      <td>2040</td>\n",
       "      <td>155</td>\n",
       "      <td>35</td>\n",
       "      <td>90</td>\n",
       "      <td>3.78</td>\n",
       "      <td>Foreign</td>\n",
       "    </tr>\n",
       "    <tr>\n",
       "      <th>71</th>\n",
       "      <td>VW Rabbit</td>\n",
       "      <td>4697</td>\n",
       "      <td>25</td>\n",
       "      <td>4.0</td>\n",
       "      <td>3.0</td>\n",
       "      <td>15</td>\n",
       "      <td>1930</td>\n",
       "      <td>155</td>\n",
       "      <td>35</td>\n",
       "      <td>89</td>\n",
       "      <td>3.78</td>\n",
       "      <td>Foreign</td>\n",
       "    </tr>\n",
       "    <tr>\n",
       "      <th>72</th>\n",
       "      <td>VW Scirocco</td>\n",
       "      <td>6850</td>\n",
       "      <td>25</td>\n",
       "      <td>4.0</td>\n",
       "      <td>2.0</td>\n",
       "      <td>16</td>\n",
       "      <td>1990</td>\n",
       "      <td>156</td>\n",
       "      <td>36</td>\n",
       "      <td>97</td>\n",
       "      <td>3.78</td>\n",
       "      <td>Foreign</td>\n",
       "    </tr>\n",
       "    <tr>\n",
       "      <th>73</th>\n",
       "      <td>Volvo 260</td>\n",
       "      <td>11995</td>\n",
       "      <td>17</td>\n",
       "      <td>5.0</td>\n",
       "      <td>2.5</td>\n",
       "      <td>14</td>\n",
       "      <td>3170</td>\n",
       "      <td>193</td>\n",
       "      <td>37</td>\n",
       "      <td>163</td>\n",
       "      <td>2.98</td>\n",
       "      <td>Foreign</td>\n",
       "    </tr>\n",
       "  </tbody>\n",
       "</table>\n",
       "<p>74 rows × 12 columns</p>\n",
       "</div>"
      ],
      "text/plain": [
       "             make  price  mpg  rep78  headroom  trunk  weight  length  turn  \\\n",
       "0     AMC Concord   4099   22    3.0       2.5     11    2930     186    40   \n",
       "1       AMC Pacer   4749   17    3.0       3.0     11    3350     173    40   \n",
       "2      AMC Spirit   3799   22    NaN       3.0     12    2640     168    35   \n",
       "3   Buick Century   4816   20    3.0       4.5     16    3250     196    40   \n",
       "4   Buick Electra   7827   15    4.0       4.0     20    4080     222    43   \n",
       "..            ...    ...  ...    ...       ...    ...     ...     ...   ...   \n",
       "69      VW Dasher   7140   23    4.0       2.5     12    2160     172    36   \n",
       "70      VW Diesel   5397   41    5.0       3.0     15    2040     155    35   \n",
       "71      VW Rabbit   4697   25    4.0       3.0     15    1930     155    35   \n",
       "72    VW Scirocco   6850   25    4.0       2.0     16    1990     156    36   \n",
       "73      Volvo 260  11995   17    5.0       2.5     14    3170     193    37   \n",
       "\n",
       "    displacement  gear_ratio   foreign  \n",
       "0            121        3.58  Domestic  \n",
       "1            258        2.53  Domestic  \n",
       "2            121        3.08  Domestic  \n",
       "3            196        2.93  Domestic  \n",
       "4            350        2.41  Domestic  \n",
       "..           ...         ...       ...  \n",
       "69            97        3.74   Foreign  \n",
       "70            90        3.78   Foreign  \n",
       "71            89        3.78   Foreign  \n",
       "72            97        3.78   Foreign  \n",
       "73           163        2.98   Foreign  \n",
       "\n",
       "[74 rows x 12 columns]"
      ]
     },
     "execution_count": 3,
     "metadata": {},
     "output_type": "execute_result"
    }
   ],
   "source": [
    "car_df"
   ]
  }
 ],
 "metadata": {
  "kernelspec": {
   "display_name": "prj",
   "language": "python",
   "name": "python3"
  },
  "language_info": {
   "codemirror_mode": {
    "name": "ipython",
    "version": 3
   },
   "file_extension": ".py",
   "mimetype": "text/x-python",
   "name": "python",
   "nbconvert_exporter": "python",
   "pygments_lexer": "ipython3",
   "version": "3.12.6"
  }
 },
 "nbformat": 4,
 "nbformat_minor": 2
}
