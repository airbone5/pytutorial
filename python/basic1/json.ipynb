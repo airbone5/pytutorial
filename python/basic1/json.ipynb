{
 "cells": [
  {
   "cell_type": "code",
   "execution_count": null,
   "metadata": {},
   "outputs": [],
   "source": [
    "import json\n",
    "# 字典\n",
    "dict = {'A':'123R','B':'678S'}\n",
    "print(dict['A'])\n",
    "# 輸出: 123R\n",
    "\n",
    "# some JSON:\n",
    "a = '{ \"name\":\"Rahul\", \"age\":21, \"city\":\"Banglore\"}'\n",
    "# parse x:\n",
    "\n",
    "b = json.loads(a)\n",
    "print(b[\"city\"])\n",
    "\n",
    "\n",
    "# Nested JSON String\n",
    "nested_json = {\"person\": {\"name\": \"Alice\", \"age\": 25, \"address\": {\"city\": \"Wonderland\", \"country\": \"Fictional\"}}}\n",
    "\n",
    "# Print the nested JSON string\n",
    "print(\"Nested JSON String:\", nested_json)\n",
    "print(nested_json['person'])\n",
    "\n",
    "#❓為甚麼出錯\n",
    "# nested_json = '{\"person\": {\"name\": \"Alice\", \"age\": 25, \"address\": {\"city\": \"Wonderland\", \"country\": \"Fictional\"}}}'\n",
    "# print(nested_json['person'])\n",
    "# 結果 \n",
    "#     print(nested_json['person'])\n",
    "#           ~~~~~~~~~~~^^^^^^^^^^\n",
    "# TypeError: string indices must be integers, not 'str'\n",
    "\n",
    "\n",
    "\n",
    "dict = {\n",
    "\"color\": \"blue\",\n",
    "\"car\": \"farari\",\n",
    "\"flower\": \"jasmine\"\n",
    "}\n",
    "print(dict)\n"
   ]
  }
 ],
 "metadata": {
  "kernelspec": {
   "display_name": "Python 3",
   "language": "python",
   "name": "python3"
  },
  "language_info": {
   "codemirror_mode": {
    "name": "ipython",
    "version": 3
   },
   "file_extension": ".py",
   "mimetype": "text/x-python",
   "name": "python",
   "nbconvert_exporter": "python",
   "pygments_lexer": "ipython3",
   "version": "3.12.6"
  }
 },
 "nbformat": 4,
 "nbformat_minor": 2
}
