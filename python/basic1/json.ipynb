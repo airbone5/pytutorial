{
 "cells": [
  {
   "cell_type": "markdown",
   "metadata": {},
   "source": [
    "## 多行"
   ]
  },
  {
   "cell_type": "code",
   "execution_count": null,
   "metadata": {},
   "outputs": [
    {
     "name": "stdout",
     "output_type": "stream",
     "text": [
      "\n",
      "SET wd=\"%cd%\"\n",
      "set outdir=d:\\temp\\fakeout\n",
      "if exist %outdir% (\n",
      "  rm -rf %outdir%\n",
      ") \n",
      "mkdir %outdir%\n",
      "hugo -s %wd% -d %outdir% -b \"https://rmilab.nkust.edu.tw/public/python/\"\n",
      "xcopy /s /f /y \"%outdir%\\\" \"\\\\alar\\d\\rlab\\www\\public\\python\\\"\n",
      "\n"
     ]
    }
   ],
   "source": [
    "\n",
    "publishbat=r\"\"\"\n",
    "SET wd=\"%cd%\"\n",
    "set outdir=d:\\temp\\fakeout\n",
    "if exist %outdir% (\n",
    "  rm -rf %outdir%\n",
    ") \n",
    "mkdir %outdir%\n",
    "hugo -s %wd% -d %outdir% -b \"https://rmilab.nkust.edu.tw/public/python/\"\n",
    "xcopy /s /f /y \"%outdir%\\\" \"\\\\alar\\d\\rlab\\www\\public\\python\\\"\n",
    "\"\"\"\n",
    "\n",
    "\n",
    "config={\n",
    "    \"publishbat\":publishbat\n",
    "}\n",
    "print(config[\"publishbat\"])\n"
   ]
  },
  {
   "cell_type": "markdown",
   "metadata": {},
   "source": [
    "## format 範例\n",
    "```python\n",
    "\"I have two names:{0},{1} and i prefer the second {1}\".format(\"tom\",\"money\")\n",
    "```\n",
    "'I have two names:tom,money and i prefer the second money'"
   ]
  },
  {
   "cell_type": "code",
   "execution_count": null,
   "metadata": {},
   "outputs": [
    {
     "name": "stdout",
     "output_type": "stream",
     "text": [
      "\n",
      "SET wd=\"%cd%\"\n",
      "set outdir=_temp\n",
      "if exist %outdir% (\n",
      "  rm -rf %outdir%\n",
      ") \n",
      "mkdir %outdir%\n",
      "hugo -s %wd% -d %outdir% -b \"https://rmilab.nkust.edu.tw/public/xxx\"\n",
      "xcopy /s /f /y \"%outdir%\\\" \"\\\\alar\\d\\rlab\\www\\public\\xxx\\\"\n",
      "rm -rf %outdir%\n",
      "\n"
     ]
    }
   ],
   "source": [
    "\n",
    "publishbat=r\"\"\"\n",
    "SET wd=\"%cd%\"\n",
    "set outdir=_temp\n",
    "if exist %outdir% (\n",
    "  rm -rf %outdir%\n",
    ") \n",
    "mkdir %outdir%\n",
    "hugo -s %wd% -d %outdir% -b \"https://rmilab.nkust.edu.tw/public/{0}\"\n",
    "xcopy /s /f /y \"%outdir%\\\" \"\\\\alar\\d\\rlab\\www\\public\\{0}\\\"\n",
    "rm -rf %outdir%\n",
    "\"\"\"\n",
    "\n",
    "\n",
    "config={\n",
    "    \"publishbat\":publishbat\n",
    "}\n",
    " \n",
    "print(config[\"publishbat\"].format(\"xxx\"))\n",
    "# 寫入檔案\n",
    "# with open(\"output.txt\", \"w\") as f:\n",
    "#   f.write(config[\"publishbat\"].format(\"xxx\"))\n"
   ]
  },
  {
   "cell_type": "code",
   "execution_count": 7,
   "metadata": {},
   "outputs": [
    {
     "data": {
      "text/plain": [
       "'I have two names:tom,money and i prefer the second money'"
      ]
     },
     "execution_count": 7,
     "metadata": {},
     "output_type": "execute_result"
    }
   ],
   "source": [
    "\"I have two names:{0},{1} and i prefer the second {1}\".format(\"tom\",\"money\")"
   ]
  }
 ],
 "metadata": {
  "kernelspec": {
   "display_name": "Python 3",
   "language": "python",
   "name": "python3"
  },
  "language_info": {
   "codemirror_mode": {
    "name": "ipython",
    "version": 3
   },
   "file_extension": ".py",
   "mimetype": "text/x-python",
   "name": "python",
   "nbconvert_exporter": "python",
   "pygments_lexer": "ipython3",
   "version": "3.12.6"
  }
 },
 "nbformat": 4,
 "nbformat_minor": 2
}
