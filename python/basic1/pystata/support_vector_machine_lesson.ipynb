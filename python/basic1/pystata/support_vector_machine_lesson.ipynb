{
 "cells": [
  {
   "cell_type": "markdown",
   "metadata": {},
   "source": [
    "# Support Vector Machine Classification\n",
    "\n",
    "\n",
    "## 目的\n",
    "利用 gradient descent 最大化margin 分出兩類  \n",
    "\n",
    "\n",
    "## What are some use cases for SVMs?\n",
    "\n",
    "-Classification, regression (time series prediction, etc) , outlier detection, clustering\n",
    "\n",
    "## 其他例子\n",
    "\n",
    "- Learning to use Scikit-learn's SVM function to classify images https://github.com/ksopyla/svm_mnist_digit_classification\n",
    "- Pulse classification, more useful dataset \n",
    "https://github.com/akasantony/pulse-classification-svm\n",
    " \n",
    " \n",
    "## Whats a hyperplane?\n",
    "\n",
    "![alt text](http://slideplayer.com/slide/1579281/5/images/32/Hyperplanes+as+decision+surfaces.jpg \"Logo Title Text 1\")\n",
    " \n",
    "![](stata_svm_python.files/pointtoline.png)\n",
    "![](stata_svm_python.files/最大化margin.png)"
   ]
  },
  {
   "cell_type": "markdown",
   "metadata": {},
   "source": [
    "## Let's define our loss function (what to minimize) and our objective function (what to optimize)\n",
    "\n",
    "#### Loss function\n",
    "\n",
    "We'll use the Hinge loss. This is a loss function used for training classifiers. The hinge loss is used for \"maximum-margin\" classification, most notably for support vector machines (SVMs).\n",
    "\n",
    "$$\n",
    "c(x,y,f(x))=(1-y*f(x))_+\n",
    "$$\n",
    "\n",
    "- c is the loss function, \n",
    "- x the sample, \n",
    "- y is the true label, \n",
    "- f(x) the predicted label.\n",
    "\n",
    "\n",
    "$$\n",
    "c(x,y,f(x)) =  \\bigg\\{ \\begin{array}{lr} 0, &  \\text{if } y*f(x)\\ge 1 \\\\ 1-y*f(x), & else \\end{array}\n",
    "$$\n",
    "\n",
    "\n",
    "#### Objective Function\n",
    "\n",
    "\n",
    "$$\n",
    "min_w\\lambda \\|w\\|^2+\\Sigma_{i=1}^n (1-y_i\\langle x_i,w \\rangle)_+\n",
    "$$\n",
    "目標方程有兩項目 \n",
    "- 一個是用來增加margin\n",
    "- 一個是分類錯誤的逞罰\n",
    "\n",
    "## 最佳化\n",
    "\n",
    "$$\n",
    "\\frac{\\delta}{\\delta w_k}\\lambda \\|w\\|^2 = 2\\lambda w_k\n",
    "$$\n",
    "$$\n",
    "\\frac{\\delta}{\\delta w_k}(1-y_i\\langle x_i,w \\rangle)_+ =  \\bigg\\{ \\begin{array}{lr} 0, &  \\text{if } y_i\\langle x_i,w \\rangle\\ge 1 \\\\ -y_i*x_{ik}, & else \\end{array}\n",
    "\n",
    "$$\n",
    " \n",
    "\n",
    "Misclassification condition \n",
    "\n",
    "$$ \n",
    "y_i \\langle x_i,w\\rangle < 1 \n",
    "$$\n",
    "\n",
    "Update rule for our weights (misclassified)\n",
    "\n",
    "$$ \n",
    "w=w+\\eta(y_i x_i - 2\\lambda w) \n",
    "$$\n",
    "\n",
    "\n",
    "{{< notice type=\"info\" class=\"\" >}}\n",
    "including the learning rate η and the regularizer λ\n",
    "The learning rate is the length of the steps the algorithm makes down the gradient on the error curve.\n",
    "- Learning rate too high? The algorithm might overshoot the optimal point.\n",
    "- Learning rate too low? Could take too long to converge. Or never converge.\n",
    "\n",
    "As a regulizing parameter we choose 1/epochs, so this parameter will decrease, as the number of epochs increases.\n",
    "\n",
    "The regularizer(1/epochs) controls the trade off between the achieving a low training error and a low testing error that is the ability to generalize your classifier to unseen data. \n",
    "- Regularizer too high? overfit (large testing error) \n",
    "- Regularizer too low? underfit (large training error) \n",
    "\n",
    "{{< /notice >}}\n",
    "\n",
    "\n",
    "Update rule for our weights (correctly classified)\n",
    "$$\n",
    "w=w+\\eta(-2\\lambda w) \n",
    "$$"
   ]
  },
  {
   "cell_type": "markdown",
   "metadata": {},
   "source": [
    "\n"
   ]
  },
  {
   "cell_type": "code",
   "execution_count": 44,
   "metadata": {},
   "outputs": [
    {
     "data": {
      "text/plain": [
       "[<matplotlib.lines.Line2D at 0x21214176600>]"
      ]
     },
     "execution_count": 44,
     "metadata": {},
     "output_type": "execute_result"
    },
    {
     "data": {
      "image/png": "[encoded data removed]",
      "text/plain": [
       "<Figure size 640x480 with 1 Axes>"
      ]
     },
     "metadata": {},
     "output_type": "display_data"
    }
   ],
   "source": [
    "#產生範例資料\n",
    "import numpy as np\n",
    "from matplotlib import pyplot as plt\n",
    "%matplotlib inline\n",
    "\n",
    "#Step 1 - Define our data\n",
    "\n",
    "#Input data - Of the form [X value, Y value, Bias term]\n",
    "X = np.array([\n",
    "    [-2,4,-1],\n",
    "    [4,1,-1],\n",
    "    [1, 6, -1],\n",
    "    [2, 4, -1],\n",
    "    [6, 2, -1],\n",
    "])\n",
    "\n",
    "#Associated output labels - First 2 examples are labeled '-1' and last 3 are labeled '+1'\n",
    "y = np.array([-1,-1,1,1,1])\n",
    "\n",
    "#lets plot these examples on a 2D graph!\n",
    "#for each example\n",
    "for d, sample in enumerate(X):\n",
    "    # Plot the negative samples (the first 2)\n",
    "    if d < 2:\n",
    "        plt.scatter(sample[0], sample[1], s=120, marker='_', linewidths=2)\n",
    "    # Plot the positive samples (the last 3)\n",
    "    else:\n",
    "        plt.scatter(sample[0], sample[1], s=120, marker='+', linewidths=2)\n",
    "\n",
    "# Print a possible hyperplane, that is seperating the two classes.\n",
    "#we'll two points and draw the line between them (naive guess)\n",
    "plt.plot([-2,6],[6,0.5])"
   ]
  },
  {
   "cell_type": "code",
   "execution_count": 45,
   "metadata": {
    "collapsed": true
   },
   "outputs": [],
   "source": [
    "#lets perform stochastic gradient descent to learn the seperating hyperplane between both classes\n",
    "\n",
    "def svm_sgd_plot(X, Y):\n",
    "    #Initialize our SVMs weight vector with zeros (3 values)\n",
    "    w = np.zeros(len(X[0]))\n",
    "    sz=len(Y)\n",
    "    #w=np.zeros(X.shape[1])\n",
    "    #The learning rate\n",
    "    eta = 1\n",
    "    #how many iterations to train for\n",
    "    epochs = 100000\n",
    "    #store misclassifications so we can plot how they change over time\n",
    "    errors = []\n",
    "\n",
    "    #training part, gradient descent part\n",
    "    for epoch in range(1,epochs):\n",
    "        error = 0\n",
    "        for i, x in enumerate(X):\n",
    "            #misclassification\n",
    "            if (Y[i]*np.dot(X[i], w)) < 1:\n",
    "                #misclassified update for ours weights\n",
    "                w = w + eta * ( (X[i] * Y[i]) + (-2  *(1/epoch)* w) )\n",
    "                error = 1\n",
    "            else:\n",
    "                #correct classification, update our weights\n",
    "                w = w + eta * (-2  *(1/epoch)* w)\n",
    "        errors.append(error)\n",
    "        \n",
    "\n",
    "    #lets plot the rate of classification errors during training for our SVM\n",
    "    #plt.plot(errors, '|')\n",
    "    #plt.ylim(0.5,1.5)\n",
    "    #plt.axes().set_yticklabels([])\n",
    "    plt.plot(errors)\n",
    "    plt.xlabel('Epoch')\n",
    "    plt.ylabel('Misclassified')\n",
    "    plt.show()\n",
    "    \n",
    "    return w"
   ]
  },
  {
   "cell_type": "code",
   "execution_count": 46,
   "metadata": {
    "collapsed": true
   },
   "outputs": [
    {
     "data": {
      "image/png": "[encoded data removed]",
      "text/plain": [
       "<Figure size 640x480 with 1 Axes>"
      ]
     },
     "metadata": {},
     "output_type": "display_data"
    },
    {
     "data": {
      "text/plain": [
       "array([ 1.58876117,  3.17458055, 11.11863105])"
      ]
     },
     "execution_count": 46,
     "metadata": {},
     "output_type": "execute_result"
    }
   ],
   "source": [
    "w = svm_sgd_plot(X,y)\n",
    "w\n",
    "#they decrease over time! Our SVM is learning the optimal hyperplane"
   ]
  },
  {
   "cell_type": "code",
   "execution_count": 47,
   "metadata": {},
   "outputs": [
    {
     "name": "stdout",
     "output_type": "stream",
     "text": [
      "[[ 1.58876117  3.17458055 -3.17458055  1.58876117]\n",
      " [ 1.58876117  3.17458055  3.17458055 -1.58876117]]\n",
      "(np.float64(1.5887611677029299), np.float64(1.5887611677029299))\n",
      "(np.float64(3.174580551480781), np.float64(3.174580551480781))\n",
      "(np.float64(-3.174580551480781), np.float64(3.174580551480781))\n",
      "(np.float64(1.5887611677029299), np.float64(-1.5887611677029299))\n"
     ]
    },
    {
     "data": {
      "text/plain": [
       "<matplotlib.quiver.Quiver at 0x21213e92d20>"
      ]
     },
     "execution_count": 47,
     "metadata": {},
     "output_type": "execute_result"
    },
    {
     "data": {
      "image/png": "[encoded data removed]",
      "text/plain": [
       "<Figure size 640x480 with 1 Axes>"
      ]
     },
     "metadata": {},
     "output_type": "display_data"
    }
   ],
   "source": [
    "for d, sample in enumerate(X):\n",
    "    # Plot the negative samples\n",
    "    if d < 2:\n",
    "        plt.scatter(sample[0], sample[1], s=120, marker='_', linewidths=2)\n",
    "    # Plot the positive samples\n",
    "    else:\n",
    "        plt.scatter(sample[0], sample[1], s=120, marker='+', linewidths=2)\n",
    "\n",
    "# Add our test samples\n",
    "plt.scatter(2,2, s=120, marker='o', linewidths=2, color='yellow')# -\n",
    "plt.scatter(4,3, s=120, marker='o', linewidths=2, color='blue')# +\n",
    "\n",
    "# Print the hyperplane calculated by svm_sgd()\n",
    "x2=[w[0],w[1],-w[1],w[0]]\n",
    "x3=[w[0],w[1],w[1],-w[0]]\n",
    "\n",
    "x2x3 =np.array([x2,x3])\n",
    "print(x2x3)\n",
    "aX,aY,aU,aV = zip(*x2x3)\n",
    "print(aX)\n",
    "print(aY)\n",
    "print(aU)\n",
    "print(aV)\n",
    "ax = plt.gca()\n",
    "ax.quiver(aX,aY,aU,aV,scale=1, color='blue')"
   ]
  },
  {
   "cell_type": "code",
   "execution_count": 48,
   "metadata": {},
   "outputs": [
    {
     "data": {
      "text/plain": [
       "array([-2,  1])"
      ]
     },
     "execution_count": 48,
     "metadata": {},
     "output_type": "execute_result"
    }
   ],
   "source": [
    "np.min(X,0)[0:2]"
   ]
  },
  {
   "cell_type": "code",
   "execution_count": 49,
   "metadata": {},
   "outputs": [
    {
     "data": {
      "image/png": "[encoded data removed]",
      "text/plain": [
       "<Figure size 640x480 with 1 Axes>"
      ]
     },
     "metadata": {},
     "output_type": "display_data"
    }
   ],
   "source": [
    "for d, sample in enumerate(X):\n",
    "    # Plot the negative samples\n",
    "    if d < 2:\n",
    "        plt.scatter(sample[0], sample[1], s=120, marker='_', linewidths=2)\n",
    "    # Plot the positive samples\n",
    "    else:\n",
    "        plt.scatter(sample[0], sample[1], s=120, marker='+', linewidths=2)\n",
    "\n",
    "# Add our test samples\n",
    "def ybyx(ax):\n",
    "    #ax*w[0]+ay*w[1]+w[2]=0\n",
    "    ay=-(ax*w[0]-w[2])/w[1]\n",
    "    return ay\n",
    "min2=np.min(X,0)[0:2]\n",
    "max2=np.max(X,0)[0:2]\n",
    "px=[min2[0],max2[0]]\n",
    "py=[]\n",
    "for d,v in enumerate(px):\n",
    "    py.append(ybyx(v))\n",
    "plt.plot(px,py)\n",
    "plt.show()\n",
    "\n",
    " "
   ]
  },
  {
   "cell_type": "code",
   "execution_count": 50,
   "metadata": {},
   "outputs": [
    {
     "name": "stdout",
     "output_type": "stream",
     "text": [
      "-1.591947610537563\n",
      "4.760155276349076\n"
     ]
    }
   ],
   "source": [
    "print(np.dot([2,2,-1],w))\n",
    "print(np.dot([4,3,-1],w))"
   ]
  },
  {
   "cell_type": "markdown",
   "metadata": {},
   "source": [
    "[多個分類](https://www.baeldung.com/cs/svm-multiclass-classification)"
   ]
  }
 ],
 "metadata": {
  "kernelspec": {
   "display_name": "Python 3",
   "language": "python",
   "name": "python3"
  },
  "language_info": {
   "codemirror_mode": {
    "name": "ipython",
    "version": 3
   },
   "file_extension": ".py",
   "mimetype": "text/x-python",
   "name": "python",
   "nbconvert_exporter": "python",
   "pygments_lexer": "ipython3",
   "version": "3.12.6"
  }
 },
 "nbformat": 4,
 "nbformat_minor": 2
}
