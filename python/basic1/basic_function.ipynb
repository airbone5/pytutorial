{
 "cells": [
  {
   "cell_type": "markdown",
   "metadata": {},
   "source": [
    "介紹函數"
   ]
  },
  {
   "cell_type": "markdown",
   "metadata": {},
   "source": [
    "傳入的參數為1個，多個字串，或者是字串list"
   ]
  },
  {
   "cell_type": "code",
   "execution_count": 8,
   "metadata": {},
   "outputs": [
    {
     "name": "stdout",
     "output_type": "stream",
     "text": [
      "<class 'str'>\n",
      "cat\n",
      "<class 'str'>\n",
      "mouse\n",
      "<class 'str'>\n",
      "dog\n",
      "\n",
      "<class 'list'>\n",
      "['cow', 'horse', 'pig']\n"
     ]
    }
   ],
   "source": [
    "def getStuff(*stuff):\n",
    "    for thing in stuff:\n",
    "        print(type(thing))\n",
    "        print(thing)\n",
    "\n",
    "getStuff(\"cat\", \"mouse\", \"dog\")\n",
    "print()\n",
    "animals = ['cow', 'horse', 'pig']\n",
    "getStuff(animals)"
   ]
  },
  {
   "cell_type": "markdown",
   "metadata": {},
   "source": [
    "### 練習 取代反斜線"
   ]
  },
  {
   "cell_type": "code",
   "execution_count": 25,
   "metadata": {},
   "outputs": [
    {
     "data": {
      "text/plain": [
       "['c:/temp/xx.bat', 'c:/temp/x.bat']"
      ]
     },
     "execution_count": 25,
     "metadata": {},
     "output_type": "execute_result"
    }
   ],
   "source": [
    "x=[\"c:\\\\temp\\\\xx.bat\",r\"c:\\temp\\x.bat\"]\n",
    "rst=[]\n",
    "for item in x:\n",
    " rst.append(item.replace(\"\\\\\",\"/\"))\n",
    "rst "
   ]
  },
  {
   "cell_type": "code",
   "execution_count": null,
   "metadata": {},
   "outputs": [
    {
     "ename": "AttributeError",
     "evalue": "'list' object has no attribute 'replace'",
     "output_type": "error",
     "traceback": [
      "\u001b[1;31m---------------------------------------------------------------------------\u001b[0m",
      "\u001b[1;31mAttributeError\u001b[0m                            Traceback (most recent call last)",
      "Cell \u001b[1;32mIn[57], line 8\u001b[0m\n\u001b[0;32m      6\u001b[0m fixbackslash(\u001b[38;5;124m\"\u001b[39m\u001b[38;5;124mc:\u001b[39m\u001b[38;5;130;01m\\\\\u001b[39;00m\u001b[38;5;124mtemp\u001b[39m\u001b[38;5;130;01m\\\\\u001b[39;00m\u001b[38;5;124mxx.bat\u001b[39m\u001b[38;5;124m\"\u001b[39m)\n\u001b[0;32m      7\u001b[0m fixbackslash(\u001b[38;5;124m\"\u001b[39m\u001b[38;5;124mc:\u001b[39m\u001b[38;5;130;01m\\\\\u001b[39;00m\u001b[38;5;124mtemp\u001b[39m\u001b[38;5;130;01m\\\\\u001b[39;00m\u001b[38;5;124mxx.bat\u001b[39m\u001b[38;5;124m\"\u001b[39m,\u001b[38;5;124mr\u001b[39m\u001b[38;5;124m\"\u001b[39m\u001b[38;5;124mc:\u001b[39m\u001b[38;5;124m\\\u001b[39m\u001b[38;5;124mtemp\u001b[39m\u001b[38;5;124m\\\u001b[39m\u001b[38;5;124mx.bat\u001b[39m\u001b[38;5;124m\"\u001b[39m)\n\u001b[1;32m----> 8\u001b[0m \u001b[43mfixbackslash\u001b[49m\u001b[43m(\u001b[49m\u001b[43m[\u001b[49m\u001b[38;5;124;43m\"\u001b[39;49m\u001b[38;5;124;43mc:\u001b[39;49m\u001b[38;5;130;43;01m\\\\\u001b[39;49;00m\u001b[38;5;124;43mtemp\u001b[39;49m\u001b[38;5;130;43;01m\\\\\u001b[39;49;00m\u001b[38;5;124;43mxx.bat\u001b[39;49m\u001b[38;5;124;43m\"\u001b[39;49m\u001b[43m,\u001b[49m\u001b[38;5;124;43mr\u001b[39;49m\u001b[38;5;124;43m\"\u001b[39;49m\u001b[38;5;124;43mc:\u001b[39;49m\u001b[38;5;124;43m\\\u001b[39;49m\u001b[38;5;124;43mtemp\u001b[39;49m\u001b[38;5;124;43m\\\u001b[39;49m\u001b[38;5;124;43mx.bat\u001b[39;49m\u001b[38;5;124;43m\"\u001b[39;49m\u001b[43m]\u001b[49m\u001b[43m)\u001b[49m \u001b[38;5;66;03m#❌\u001b[39;00m\n",
      "Cell \u001b[1;32mIn[57], line 3\u001b[0m, in \u001b[0;36mfixbackslash\u001b[1;34m(*astr)\u001b[0m\n\u001b[0;32m      1\u001b[0m \u001b[38;5;28;01mdef\u001b[39;00m \u001b[38;5;21mfixbackslash\u001b[39m(\u001b[38;5;241m*\u001b[39mastr):\n\u001b[1;32m----> 3\u001b[0m  rst\u001b[38;5;241m=\u001b[39m[\u001b[43mitem\u001b[49m\u001b[38;5;241;43m.\u001b[39;49m\u001b[43mreplace\u001b[49m(\u001b[38;5;124m\"\u001b[39m\u001b[38;5;130;01m\\\\\u001b[39;00m\u001b[38;5;124m\"\u001b[39m,\u001b[38;5;124m\"\u001b[39m\u001b[38;5;124m/\u001b[39m\u001b[38;5;124m\"\u001b[39m) \u001b[38;5;28;01mfor\u001b[39;00m item \u001b[38;5;129;01min\u001b[39;00m astr]\n\u001b[0;32m      4\u001b[0m  \u001b[38;5;28;01mreturn\u001b[39;00m rst\n",
      "\u001b[1;31mAttributeError\u001b[0m: 'list' object has no attribute 'replace'"
     ]
    }
   ],
   "source": [
    "def fixbackslash(*astr):\n",
    " \n",
    " rst=[item.replace(\"\\\\\",\"/\") for item in astr]\n",
    " return rst\n",
    "\n",
    "fixbackslash(\"c:\\\\temp\\\\xx.bat\")\n",
    "fixbackslash(\"c:\\\\temp\\\\xx.bat\",r\"c:\\temp\\x.bat\")\n",
    "fixbackslash([\"c:\\\\temp\\\\xx.bat\",r\"c:\\temp\\x.bat\"]) #❌{{< quote anchor=\"\" icon=\"🏷️\">}}需要加上* {{< /quote >}}\n",
    "    "
   ]
  },
  {
   "cell_type": "markdown",
   "metadata": {},
   "source": [
    "🔑為甚麼加上*? 把list展開成多個參數\n",
    "續:修正"
   ]
  },
  {
   "cell_type": "code",
   "execution_count": 55,
   "metadata": {},
   "outputs": [
    {
     "data": {
      "text/plain": [
       "[\"['c://temp//xx.bat', 'c://temp//x.bat']\"]"
      ]
     },
     "execution_count": 55,
     "metadata": {},
     "output_type": "execute_result"
    }
   ],
   "source": [
    "def fixbackslash(*astr):\n",
    "  rst= list(map(lambda e: str(e).replace(\"\\\\\",\"/\"),astr)) # 需要加入list 否則回傳map物件\n",
    "  return rst\n",
    "\n",
    "#fixbackslash(\"c:\\\\temp\\\\xx.bat\") #['c:/temp/xx.bat']\n",
    "#fixbackslash(\"c:\\\\temp\\\\xx.bat\",r\"c:\\temp\\x.bat\") # ['c:/temp/xx.bat', 'c:/temp/x.bat']\n",
    "fixbackslash([\"c:\\\\temp\\\\xx.bat\",r\"c:\\temp\\x.bat\"]) #❌ [\"['c://temp//xx.bat', 'c://temp//x.bat']\"]"
   ]
  },
  {
   "cell_type": "code",
   "execution_count": null,
   "metadata": {},
   "outputs": [
    {
     "data": {
      "text/plain": [
       "['c:/temp/xx.bat', 'c:/temp/x.bat']"
      ]
     },
     "execution_count": 53,
     "metadata": {},
     "output_type": "execute_result"
    }
   ],
   "source": [
    "def fixbackslash(*astr):\n",
    " \n",
    "  rst= list(map(lambda e: str(e).replace(\"\\\\\",\"/\"),astr)) # 需要加入list 否則回傳map物件\n",
    "  return rst\n",
    "\n",
    "#fixbackslash(\"c:\\\\temp\\\\xx.bat\") #['c:/temp/xx.bat']\n",
    "#fixbackslash(\"c:\\\\temp\\\\xx.bat\",r\"c:\\temp\\x.bat\") # ['c:/temp/xx.bat', 'c:/temp/x.bat']\n",
    "fixbackslash(*[\"c:\\\\temp\\\\xx.bat\",r\"c:\\temp\\x.bat\"]) #⭕ {{< quote anchor=\"\" icon=\"🏷️\">}}需要加上* {{< /quote >}}"
   ]
  },
  {
   "cell_type": "markdown",
   "metadata": {},
   "source": [
    "### 練習: 資料夾是否有檔案"
   ]
  },
  {
   "cell_type": "code",
   "execution_count": 60,
   "metadata": {},
   "outputs": [
    {
     "name": "stdout",
     "output_type": "stream",
     "text": [
      "['basic1_dict和json.py', 'docker', 'ex', 'function.ipynb', 'hello.py', 'input_output.ipynb', 'options', 'os', 'packages', 'person.py', 'pyinstall', 'registry', 'venv', 'xxx.markdown', '_index.md', '__pycache__', '控制台.ipynb']\n"
     ]
    },
    {
     "data": {
      "text/plain": [
       "True"
      ]
     },
     "execution_count": 60,
     "metadata": {},
     "output_type": "execute_result"
    }
   ],
   "source": [
    "import os\n",
    "x=os.listdir('c:/pywork/python/basic1/')\n",
    "print(x)\n",
    "\"docker\" in x\n"
   ]
  },
  {
   "cell_type": "code",
   "execution_count": 63,
   "metadata": {},
   "outputs": [
    {
     "data": {
      "text/plain": [
       "True"
      ]
     },
     "execution_count": 63,
     "metadata": {},
     "output_type": "execute_result"
    }
   ],
   "source": [
    "def IsFolderHas(afolder,aname):\n",
    "  alist=os.listdir(afolder)\n",
    "  return aname in alist\n",
    "IsFolderHas('.','docker')"
   ]
  }
 ],
 "metadata": {
  "kernelspec": {
   "display_name": "Python 3",
   "language": "python",
   "name": "python3"
  },
  "language_info": {
   "codemirror_mode": {
    "name": "ipython",
    "version": 3
   },
   "file_extension": ".py",
   "mimetype": "text/x-python",
   "name": "python",
   "nbconvert_exporter": "python",
   "pygments_lexer": "ipython3",
   "version": "3.12.6"
  }
 },
 "nbformat": 4,
 "nbformat_minor": 2
}
