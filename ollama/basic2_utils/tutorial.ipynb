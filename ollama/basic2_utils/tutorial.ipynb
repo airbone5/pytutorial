{
 "cells": [
  {
   "cell_type": "markdown",
   "metadata": {},
   "source": [
    "## 甚麼是sys.argv"
   ]
  },
  {
   "cell_type": "code",
   "execution_count": 1,
   "metadata": {},
   "outputs": [
    {
     "name": "stdout",
     "output_type": "stream",
     "text": [
      "['c:\\\\Users\\\\linchao\\\\AppData\\\\Local\\\\Programs\\\\Python\\\\Python312\\\\Lib\\\\site-packages\\\\ipykernel_launcher.py', '--f=c:\\\\Users\\\\linchao\\\\AppData\\\\Roaming\\\\jupyter\\\\runtime\\\\kernel-v35fc8e63b2751f556c52faca87c162243b6f509eb.json']\n"
     ]
    }
   ],
   "source": [
    "import sys\n",
    "print(sys.argv)"
   ]
  },
  {
   "cell_type": "markdown",
   "metadata": {},
   "source": [
    "續前,控制台敲入下面的指令\n",
    "python hello_argv.py --option 1\n",
    "❓哪裡不一樣?"
   ]
  },
  {
   "cell_type": "code",
   "execution_count": 1,
   "metadata": {},
   "outputs": [
    {
     "name": "stdout",
     "output_type": "stream",
     "text": [
      "start\n",
      "['c:\\\\Users\\\\linchao\\\\AppData\\\\Local\\\\Programs\\\\Python\\\\Python312\\\\Lib\\\\site-packages\\\\ipykernel_launcher.py', '--f=c:\\\\Users\\\\linchao\\\\AppData\\\\Roaming\\\\jupyter\\\\runtime\\\\kernel-v3563767c33939f44bada96cc5b67d8c1b52f41de6.json']\n"
     ]
    }
   ],
   "source": [
    "import sys\n",
    " \n",
    "\n",
    "def main():\n",
    "    # standard - load \"args\" list with cmd-line-args\n",
    "    args = sys.argv[0:]\n",
    "    print(args)\n",
    "   \n",
    "\n",
    "# Python boilerplate.\n",
    "if __name__ == '__main__':\n",
    "    print('start')\n",
    "    main()\n"
   ]
  },
  {
   "cell_type": "markdown",
   "metadata": {},
   "source": [
    "## 列出模型"
   ]
  },
  {
   "cell_type": "code",
   "execution_count": 36,
   "metadata": {},
   "outputs": [
    {
     "name": "stdout",
     "output_type": "stream",
     "text": [
      "phi3:3.8b\n",
      "llama3:8b\n"
     ]
    }
   ],
   "source": [
    "import requests\n",
    "\n",
    "#CURL 範例:http://localhost:11434/api/tags\n",
    "response = requests.get('http://localhost:11434/api/tags')\n",
    "\n",
    "rst=response.json()\n",
    "rst['models']\n",
    "for item in rst['models']:\n",
    "    print(item['name'])\n"
   ]
  },
  {
   "cell_type": "markdown",
   "metadata": {},
   "source": [
    "## 字串\n",
    "### 找出號碼"
   ]
  },
  {
   "cell_type": "code",
   "execution_count": 1,
   "metadata": {},
   "outputs": [
    {
     "name": "stdout",
     "output_type": "stream",
     "text": [
      "1\n"
     ]
    }
   ],
   "source": [
    "options= ['list','show']\n",
    "print(options.index('show'))\n"
   ]
  },
  {
   "cell_type": "markdown",
   "metadata": {},
   "source": [
    "### 練習: 參數常用到的型態如下\n",
    "```\n",
    "python test.py --addr localhost --list phi3 --show phi3 \n",
    "```\n",
    "要怎樣分解,並執行?"
   ]
  },
  {
   "cell_type": "code",
   "execution_count": 4,
   "metadata": {},
   "outputs": [
    {
     "name": "stdout",
     "output_type": "stream",
     "text": [
      "{'addr': 'localhost', 'list': 'phi3', 'show': 'phi3'}\n"
     ]
    }
   ],
   "source": [
    "# 分解成json: 方法1土法煉鋼\n",
    "optstr=['program','--addr','localhost','--list', 'phi3', '--show', 'phi3' ]\n",
    "optlen=len(optstr)\n",
    "obj={}\n",
    "for ano in range(1,optlen):\n",
    "     if optstr[ano].startswith('--'):\n",
    "        akey=optstr[ano][2:]\n",
    "        avalue=optstr[ano+1]\n",
    "        obj[akey]=avalue\n",
    "        ano=ano+1\n",
    "print(obj)\n",
    "\n"
   ]
  },
  {
   "cell_type": "code",
   "execution_count": 15,
   "metadata": {},
   "outputs": [
    {
     "name": "stdout",
     "output_type": "stream",
     "text": [
      "addr localhost list phi3 show phi3\n",
      "[\"addr\", \"localhost\", \"list\", \"phi3\", \"show\", \"phi3\"]\n"
     ]
    }
   ],
   "source": [
    "## 只是測試  enumerate\n",
    "import json\n",
    "optstr=['program','--addr','localhost','--list', 'phi3', '--show', 'phi3' ]\n",
    "optstr=optstr[1:]\n",
    "optlen=len(str)\n",
    "for index, value in enumerate(optstr):\n",
    "    # if value includes [br] then replace it with <br>\n",
    "        optstr[index] = value.replace('--', '')\n",
    "str=' '.join(optstr)\n",
    "print(str)\n",
    "\n"
   ]
  },
  {
   "cell_type": "markdown",
   "metadata": {},
   "source": [
    "### filter"
   ]
  },
  {
   "cell_type": "code",
   "execution_count": 46,
   "metadata": {},
   "outputs": [
    {
     "name": "stdout",
     "output_type": "stream",
     "text": [
      "[2, 4, 6, 8]\n"
     ]
    }
   ],
   "source": [
    "my_list = [1, 2, 3, 4, 5, 6, 7, 8, 9]\n",
    "\n",
    "result = filter(lambda x: x % 2 == 0, my_list)\n",
    "new_list = list(result)\n",
    "\n",
    "print(new_list)"
   ]
  },
  {
   "cell_type": "code",
   "execution_count": 53,
   "metadata": {},
   "outputs": [
    {
     "name": "stdout",
     "output_type": "stream",
     "text": [
      "--addr localhost --list phi3 --show phi3\n",
      "['', 'addr localhost ', 'list phi3 ', 'show phi3']\n",
      "['', 'addr localhost', 'list phi3', 'show phi3']\n",
      "['addr localhost', 'list phi3', 'show phi3']\n",
      "{'addr': 'localhost', 'list': 'phi3', 'show': 'phi3'}\n"
     ]
    }
   ],
   "source": [
    "import json\n",
    "optstr=['program','--addr','localhost','--list', 'phi3', '--show', 'phi3' ]\n",
    "optstr=optstr[1:]\n",
    "str=' '.join(optstr) \n",
    "print(str)              # --addr localhost --list phi3 --show phi3\n",
    "strlist=str.split('--')\n",
    "print(strlist)          # ['', 'addr localhost ', 'list phi3 ', 'show phi3']\n",
    "strlist= [sub.strip() for sub in strlist]\n",
    "print(strlist)\n",
    "## 過濾空字串\n",
    "rst = filter(lambda item: len(item)>0, strlist)\n",
    "new_list=list(rst)\n",
    "print(new_list)  # ['addr localhost', 'list phi3', 'show phi3']\n",
    "obj={}\n",
    "for item in new_list:\n",
    "    params=item.split()\n",
    "    if len(params)==2:\n",
    "        obj[params[0]]=params[1]\n",
    "    else:\n",
    "        obj[params[0]]=''\n",
    "\n",
    "\n",
    "print(obj)  # {'addr': 'localhost', 'list': 'phi3', 'show': 'phi3'}"
   ]
  }
 ],
 "metadata": {
  "kernelspec": {
   "display_name": "Python 3",
   "language": "python",
   "name": "python3"
  },
  "language_info": {
   "codemirror_mode": {
    "name": "ipython",
    "version": 3
   },
   "file_extension": ".py",
   "mimetype": "text/x-python",
   "name": "python",
   "nbconvert_exporter": "python",
   "pygments_lexer": "ipython3",
   "version": "3.12.6"
  }
 },
 "nbformat": 4,
 "nbformat_minor": 2
}
