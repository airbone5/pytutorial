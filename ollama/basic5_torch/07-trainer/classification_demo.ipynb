{
 "cells": [
  {
   "attachments": {},
   "cell_type": "markdown",
   "metadata": {},
   "source": [
    "# 文本分類實例"
   ]
  },
  {
   "attachments": {},
   "cell_type": "markdown",
   "metadata": {},
   "source": [
    "## Step1 導入相關包"
   ]
  },
  {
   "cell_type": "markdown",
   "metadata": {},
   "source": [
    "#%pip install -r ../requirements.txt\n",
    "{{< notice type=\"info\" class=\"\" >}}\n",
    "不知道為甚麼對版本有要求\n",
    "{{< /notice >}}\n"
   ]
  },
  {
   "cell_type": "code",
   "execution_count": 2,
   "metadata": {
    "ExecuteTime": {
     "end_time": "2024-03-20T12:47:26.420147Z",
     "start_time": "2024-03-20T12:47:22.365236Z"
    }
   },
   "outputs": [
    {
     "name": "stdout",
     "output_type": "stream",
     "text": [
      "WARNING:tensorflow:From c:\\pywork\\ollama\\basic5_torch\\prj\\Lib\\site-packages\\tf_keras\\src\\losses.py:2976: The name tf.losses.sparse_softmax_cross_entropy is deprecated. Please use tf.compat.v1.losses.sparse_softmax_cross_entropy instead.\n",
      "\n"
     ]
    }
   ],
   "source": [
    "from transformers import AutoTokenizer , AutoModelForSequenceClassification, Trainer, TrainingArguments\n",
    "from datasets import load_dataset"
   ]
  },
  {
   "attachments": {},
   "cell_type": "markdown",
   "metadata": {},
   "source": [
    "## Step2 加載數據集"
   ]
  },
  {
   "cell_type": "code",
   "execution_count": 3,
   "metadata": {},
   "outputs": [
    {
     "data": {
      "text/plain": [
       "Dataset({\n",
       "    features: ['label', 'review'],\n",
       "    num_rows: 7765\n",
       "})"
      ]
     },
     "execution_count": 3,
     "metadata": {},
     "output_type": "execute_result"
    }
   ],
   "source": [
    "dataset = load_dataset(\"csv\", data_files=\"./ChnSentiCorp_htl_all.csv\", split=\"train\")\n",
    "dataset = dataset.filter(lambda x: x[\"review\"] is not None )\n",
    "#dataset = dataset.filter(lambda x: x[\"review\"] is not None and x[\"label\"]is not None)\n",
    "dataset"
   ]
  },
  {
   "attachments": {},
   "cell_type": "markdown",
   "metadata": {},
   "source": [
    "## Step3 劃分數據集"
   ]
  },
  {
   "cell_type": "code",
   "execution_count": 4,
   "metadata": {},
   "outputs": [
    {
     "data": {
      "text/plain": [
       "DatasetDict({\n",
       "    train: Dataset({\n",
       "        features: ['label', 'review'],\n",
       "        num_rows: 6988\n",
       "    })\n",
       "    test: Dataset({\n",
       "        features: ['label', 'review'],\n",
       "        num_rows: 777\n",
       "    })\n",
       "})"
      ]
     },
     "execution_count": 4,
     "metadata": {},
     "output_type": "execute_result"
    }
   ],
   "source": [
    "datasets = dataset.train_test_split(test_size=0.1)\n",
    "datasets"
   ]
  },
  {
   "attachments": {},
   "cell_type": "markdown",
   "metadata": {},
   "source": [
    "## Step4 數據集預處理"
   ]
  },
  {
   "cell_type": "code",
   "execution_count": 5,
   "metadata": {},
   "outputs": [
    {
     "data": {
      "application/vnd.jupyter.widget-view+json": {
       "model_id": "8119c16c341b4bea9b8305d0caf3b862",
       "version_major": 2,
       "version_minor": 0
      },
      "text/plain": [
       "Map:   0%|          | 0/6988 [00:00<?, ? examples/s]"
      ]
     },
     "metadata": {},
     "output_type": "display_data"
    },
    {
     "data": {
      "application/vnd.jupyter.widget-view+json": {
       "model_id": "a02bb174bb5d4ea1832a02258c59b228",
       "version_major": 2,
       "version_minor": 0
      },
      "text/plain": [
       "Map:   0%|          | 0/777 [00:00<?, ? examples/s]"
      ]
     },
     "metadata": {},
     "output_type": "display_data"
    },
    {
     "data": {
      "text/plain": [
       "DatasetDict({\n",
       "    train: Dataset({\n",
       "        features: ['input_ids', 'token_type_ids', 'attention_mask', 'labels'],\n",
       "        num_rows: 6988\n",
       "    })\n",
       "    test: Dataset({\n",
       "        features: ['input_ids', 'token_type_ids', 'attention_mask', 'labels'],\n",
       "        num_rows: 777\n",
       "    })\n",
       "})"
      ]
     },
     "execution_count": 5,
     "metadata": {},
     "output_type": "execute_result"
    }
   ],
   "source": [
    "import torch\n",
    "\n",
    "tokenizer = AutoTokenizer.from_pretrained(\"hfl/rbt3\")\n",
    "\n",
    "def process_function(examples):\n",
    "    tokenized_examples = tokenizer(examples[\"review\"], max_length=128, truncation=True) # tokenized_examples 裡面有 input_ids', 'attention_mask' 等等        \n",
    "    tokenized_examples[\"labels\"] = examples[\"label\"] \n",
    "    return tokenized_examples\n",
    "\n",
    "tokenized_datasets = datasets.map(process_function, batched=True, remove_columns=datasets[\"train\"].column_names)\n",
    "tokenized_datasets"
   ]
  },
  {
   "attachments": {},
   "cell_type": "markdown",
   "metadata": {},
   "source": [
    "## Step5 創建模型"
   ]
  },
  {
   "cell_type": "code",
   "execution_count": 6,
   "metadata": {},
   "outputs": [
    {
     "name": "stderr",
     "output_type": "stream",
     "text": [
      "Some weights of BertForSequenceClassification were not initialized from the model checkpoint at hfl/rbt3 and are newly initialized: ['classifier.bias', 'classifier.weight']\n",
      "You should probably TRAIN this model on a down-stream task to be able to use it for predictions and inference.\n"
     ]
    }
   ],
   "source": [
    "model = AutoModelForSequenceClassification.from_pretrained(\"hfl/rbt3\")\n",
    "# if torch.cuda.is_available():\n",
    "#     model = model.cuda()\n",
    "\n",
    "#model.device  "
   ]
  },
  {
   "cell_type": "code",
   "execution_count": 7,
   "metadata": {},
   "outputs": [
    {
     "data": {
      "text/plain": [
       "BertConfig {\n",
       "  \"_attn_implementation_autoset\": true,\n",
       "  \"_name_or_path\": \"hfl/rbt3\",\n",
       "  \"architectures\": [\n",
       "    \"BertForMaskedLM\"\n",
       "  ],\n",
       "  \"attention_probs_dropout_prob\": 0.1,\n",
       "  \"classifier_dropout\": null,\n",
       "  \"directionality\": \"bidi\",\n",
       "  \"hidden_act\": \"gelu\",\n",
       "  \"hidden_dropout_prob\": 0.1,\n",
       "  \"hidden_size\": 768,\n",
       "  \"initializer_range\": 0.02,\n",
       "  \"intermediate_size\": 3072,\n",
       "  \"layer_norm_eps\": 1e-12,\n",
       "  \"max_position_embeddings\": 512,\n",
       "  \"model_type\": \"bert\",\n",
       "  \"num_attention_heads\": 12,\n",
       "  \"num_hidden_layers\": 3,\n",
       "  \"output_past\": true,\n",
       "  \"pad_token_id\": 0,\n",
       "  \"pooler_fc_size\": 768,\n",
       "  \"pooler_num_attention_heads\": 12,\n",
       "  \"pooler_num_fc_layers\": 3,\n",
       "  \"pooler_size_per_head\": 128,\n",
       "  \"pooler_type\": \"first_token_transform\",\n",
       "  \"position_embedding_type\": \"absolute\",\n",
       "  \"transformers_version\": \"4.46.2\",\n",
       "  \"type_vocab_size\": 2,\n",
       "  \"use_cache\": true,\n",
       "  \"vocab_size\": 21128\n",
       "}"
      ]
     },
     "execution_count": 7,
     "metadata": {},
     "output_type": "execute_result"
    }
   ],
   "source": [
    "model.config"
   ]
  },
  {
   "attachments": {},
   "cell_type": "markdown",
   "metadata": {},
   "source": [
    "## Step6 創建評估函數"
   ]
  },
  {
   "cell_type": "code",
   "execution_count": 8,
   "metadata": {},
   "outputs": [],
   "source": [
    "import evaluate\n",
    "\n",
    "acc_metric = evaluate.load(\"accuracy\")\n",
    "f1_metric = evaluate.load(\"f1\")"
   ]
  },
  {
   "cell_type": "markdown",
   "metadata": {},
   "source": [
    "f1: Harmonic mean for two numbers [參考](https://huggingface.co/spaces/evaluate-metric/f1/blob/main/README.md)\n",
    "$${\\displaystyle \\qquad {\\frac {1}{H}}={\\frac {(1/x_{1})+(1/x_{2})}{2}}.} $$\n",
    "$${\\displaystyle H={\\frac {2x_{1}x_{2}}{x_{1}+x_{2}}}\\qquad }$$\n",
    "\n",
    "The F1 score is the harmonic mean of the precision and recall. It can be  computed with the equation: \n",
    "\n",
    "F1 = 2 * (precision * recall) / (precision +   recall)\n",
    "\n",
    "Precision is calculated using the formula: \n",
    "\n",
    "$$ preicison = \\frac{\\text{True Positives}}{\\text{True Positives + False Positives}} $$\n",
    "where:\n",
    "- True positives are the correctly predicted positive instances\n",
    "- False Positive represents instances wrongly predicted as positive.  \n",
    "\n",
    "$$ recall = \\frac{\\text{True Positives}}{\\text{True Positives + False Negatives}} $$\n",
    "where:\n",
    "\n",
    "True positives are the correctly predicted positive instances\n",
    "False Positive represents instances wrongly predicted as negative.\n",
    "\n",
    "\n",
    "![](classification_demo.files/f1.png)\n",
    "\n",
    "- RECALL 原始陽為分母\n",
    "- Precision 預測陽為分母"
   ]
  },
  {
   "cell_type": "code",
   "execution_count": 9,
   "metadata": {},
   "outputs": [],
   "source": [
    "def eval_metric(eval_predict):\n",
    "    predictions, labels = eval_predict\n",
    "    predictions = predictions.argmax(axis=-1)\n",
    "    acc = acc_metric.compute(predictions=predictions, references=labels)\n",
    "    f1 = f1_metric.compute(predictions=predictions, references=labels)\n",
    "    acc.update(f1)\n",
    "    return acc"
   ]
  },
  {
   "attachments": {},
   "cell_type": "markdown",
   "metadata": {},
   "source": [
    "## Step7 創建TrainingArguments"
   ]
  },
  {
   "cell_type": "code",
   "execution_count": 10,
   "metadata": {},
   "outputs": [
    {
     "name": "stderr",
     "output_type": "stream",
     "text": [
      "c:\\pywork\\ollama\\basic5_torch\\prj\\Lib\\site-packages\\transformers\\training_args.py:1568: FutureWarning: `evaluation_strategy` is deprecated and will be removed in version 4.46 of 🤗 Transformers. Use `eval_strategy` instead\n",
      "  warnings.warn(\n"
     ]
    },
    {
     "data": {
      "text/plain": [
       "TrainingArguments(\n",
       "_n_gpu=1,\n",
       "accelerator_config={'split_batches': False, 'dispatch_batches': None, 'even_batches': True, 'use_seedable_sampler': True, 'non_blocking': False, 'gradient_accumulation_kwargs': None, 'use_configured_state': False},\n",
       "adafactor=False,\n",
       "adam_beta1=0.9,\n",
       "adam_beta2=0.999,\n",
       "adam_epsilon=1e-08,\n",
       "auto_find_batch_size=False,\n",
       "average_tokens_across_devices=False,\n",
       "batch_eval_metrics=False,\n",
       "bf16=False,\n",
       "bf16_full_eval=False,\n",
       "data_seed=None,\n",
       "dataloader_drop_last=False,\n",
       "dataloader_num_workers=0,\n",
       "dataloader_persistent_workers=False,\n",
       "dataloader_pin_memory=True,\n",
       "dataloader_prefetch_factor=None,\n",
       "ddp_backend=None,\n",
       "ddp_broadcast_buffers=None,\n",
       "ddp_bucket_cap_mb=None,\n",
       "ddp_find_unused_parameters=None,\n",
       "ddp_timeout=1800,\n",
       "debug=[],\n",
       "deepspeed=None,\n",
       "disable_tqdm=False,\n",
       "dispatch_batches=None,\n",
       "do_eval=True,\n",
       "do_predict=False,\n",
       "do_train=False,\n",
       "eval_accumulation_steps=None,\n",
       "eval_delay=0,\n",
       "eval_do_concat_batches=True,\n",
       "eval_on_start=False,\n",
       "eval_steps=None,\n",
       "eval_strategy=IntervalStrategy.EPOCH,\n",
       "eval_use_gather_object=False,\n",
       "evaluation_strategy=epoch,\n",
       "fp16=False,\n",
       "fp16_backend=auto,\n",
       "fp16_full_eval=False,\n",
       "fp16_opt_level=O1,\n",
       "fsdp=[],\n",
       "fsdp_config={'min_num_params': 0, 'xla': False, 'xla_fsdp_v2': False, 'xla_fsdp_grad_ckpt': False},\n",
       "fsdp_min_num_params=0,\n",
       "fsdp_transformer_layer_cls_to_wrap=None,\n",
       "full_determinism=False,\n",
       "gradient_accumulation_steps=1,\n",
       "gradient_checkpointing=False,\n",
       "gradient_checkpointing_kwargs=None,\n",
       "greater_is_better=True,\n",
       "group_by_length=False,\n",
       "half_precision_backend=auto,\n",
       "hub_always_push=False,\n",
       "hub_model_id=None,\n",
       "hub_private_repo=False,\n",
       "hub_strategy=HubStrategy.EVERY_SAVE,\n",
       "hub_token=<HUB_TOKEN>,\n",
       "ignore_data_skip=False,\n",
       "include_for_metrics=[],\n",
       "include_inputs_for_metrics=False,\n",
       "include_num_input_tokens_seen=False,\n",
       "include_tokens_per_second=False,\n",
       "jit_mode_eval=False,\n",
       "label_names=None,\n",
       "label_smoothing_factor=0.0,\n",
       "learning_rate=2e-05,\n",
       "length_column_name=length,\n",
       "load_best_model_at_end=True,\n",
       "local_rank=0,\n",
       "log_level=passive,\n",
       "log_level_replica=warning,\n",
       "log_on_each_node=True,\n",
       "logging_dir=./checkpoints\\runs\\Dec23_14-27-17_lamp,\n",
       "logging_first_step=False,\n",
       "logging_nan_inf_filter=True,\n",
       "logging_steps=10,\n",
       "logging_strategy=IntervalStrategy.STEPS,\n",
       "lr_scheduler_kwargs={},\n",
       "lr_scheduler_type=SchedulerType.LINEAR,\n",
       "max_grad_norm=1.0,\n",
       "max_steps=-1,\n",
       "metric_for_best_model=f1,\n",
       "mp_parameters=,\n",
       "neftune_noise_alpha=None,\n",
       "no_cuda=False,\n",
       "num_train_epochs=3.0,\n",
       "optim=OptimizerNames.ADAMW_TORCH,\n",
       "optim_args=None,\n",
       "optim_target_modules=None,\n",
       "output_dir=./checkpoints,\n",
       "overwrite_output_dir=False,\n",
       "past_index=-1,\n",
       "per_device_eval_batch_size=128,\n",
       "per_device_train_batch_size=64,\n",
       "prediction_loss_only=False,\n",
       "push_to_hub=False,\n",
       "push_to_hub_model_id=None,\n",
       "push_to_hub_organization=None,\n",
       "push_to_hub_token=<PUSH_TO_HUB_TOKEN>,\n",
       "ray_scope=last,\n",
       "remove_unused_columns=True,\n",
       "report_to=['tensorboard'],\n",
       "restore_callback_states_from_checkpoint=False,\n",
       "resume_from_checkpoint=None,\n",
       "run_name=./checkpoints,\n",
       "save_on_each_node=False,\n",
       "save_only_model=False,\n",
       "save_safetensors=True,\n",
       "save_steps=500,\n",
       "save_strategy=IntervalStrategy.EPOCH,\n",
       "save_total_limit=3,\n",
       "seed=42,\n",
       "skip_memory_metrics=True,\n",
       "split_batches=None,\n",
       "tf32=None,\n",
       "torch_compile=False,\n",
       "torch_compile_backend=None,\n",
       "torch_compile_mode=None,\n",
       "torch_empty_cache_steps=None,\n",
       "torchdynamo=None,\n",
       "tpu_metrics_debug=False,\n",
       "tpu_num_cores=None,\n",
       "use_cpu=False,\n",
       "use_ipex=False,\n",
       "use_legacy_prediction_loop=False,\n",
       "use_liger_kernel=False,\n",
       "use_mps_device=False,\n",
       "warmup_ratio=0.0,\n",
       "warmup_steps=0,\n",
       "weight_decay=0.01,\n",
       ")"
      ]
     },
     "execution_count": 10,
     "metadata": {},
     "output_type": "execute_result"
    }
   ],
   "source": [
    "train_args = TrainingArguments(output_dir=\"./checkpoints\",      # 輸出文件夾\n",
    "                               per_device_train_batch_size=64,  # 訓練時的batch_size\n",
    "                               per_device_eval_batch_size=128,  # 驗證時的batch_size\n",
    "                               logging_steps=10,                # log 打印的頻率\n",
    "                               evaluation_strategy=\"epoch\",     # 評估策略\n",
    "                               save_strategy=\"epoch\",           # 保存策略\n",
    "                               save_total_limit=3,              # 最大保存數\n",
    "                               learning_rate=2e-5,              # 學習率\n",
    "                               weight_decay=0.01,               # weight_decay\n",
    "                               metric_for_best_model=\"f1\",      # 設定評估指標\n",
    "                               load_best_model_at_end=True)     # 訓練完成後加載最優模型\n",
    "train_args"
   ]
  },
  {
   "attachments": {},
   "cell_type": "markdown",
   "metadata": {},
   "source": [
    "## Step8 創建Trainer"
   ]
  },
  {
   "cell_type": "code",
   "execution_count": 11,
   "metadata": {},
   "outputs": [],
   "source": [
    "from transformers import DataCollatorWithPadding\n",
    "trainer = Trainer(model=model, \n",
    "                  args=train_args, \n",
    "                  train_dataset=tokenized_datasets[\"train\"], \n",
    "                  eval_dataset=tokenized_datasets[\"test\"], \n",
    "                  data_collator=DataCollatorWithPadding(tokenizer=tokenizer),\n",
    "                  compute_metrics=eval_metric)"
   ]
  },
  {
   "cell_type": "markdown",
   "metadata": {},
   "source": [
    "DataCollatorWithPadding 是 Hugging Face Transformers 的一個類別。用來padding 資料長度。\n",
    "\n",
    "Here’s a basic overview of how it works:\n",
    " \n",
    "\n",
    "\n",
    "```python\n",
    "#Initialization\n",
    "from transformers import DataCollatorWithPadding, AutoTokenizer\n",
    "\n",
    "tokenizer = AutoTokenizer.from_pretrained(\"bert-base-uncased\")\n",
    "data_collator = DataCollatorWithPadding(tokenizer=tokenizer)\n",
    "\n",
    "#Batch Preparation:   \n",
    "examples = [\n",
    "{\"input_ids\": [1, 2, 3], \"labels\": [0]},\n",
    "{\"input_ids\": [4, 5], \"labels\": [1]},\n",
    "# …\n",
    "]\n",
    "\n",
    "batch = data_collator(examples)\n",
    "batch\n",
    "\n",
    "😉執行結果 In the output, the 0 values represent the padding tokens, and -100 is a common value used to mask out certain elements during training.\n",
    "\n",
    "{'input_ids': tensor([[1, 2, 3],\n",
    "        [4, 5, 0]]), 'labels': tensor([[0],\n",
    "        [1]]), 'attention_mask': tensor([[1, 1, 1],\n",
    "        [1, 1, 0]])}\n",
    "```  \n",
    "      \n",
    "在本例中\n",
    "```python\n",
    "data_collator=DataCollatorWithPadding(tokenizer=tokenizer)\n",
    "print(tokenized_datasets[\"test\"][0]) # 測試資料第一筆\n",
    "data_collator(tokenized_datasets[\"test\"][0])\n",
    "\n",
    "\n",
    "😉執行結果\n",
    "\n",
    "test第一筆\n",
    "\n",
    "{'input_ids': [101, 6983, 2421, 4802, 2141, 2523, 2345, 8024, 5445, 684, 817, 3419, 2523, 6586, 8013, 2255, 3250, 2791, 2233, 4197, 2218, 3221, 2190, 4708, 671, 702, 2207, 4901, 2255, 8024, 2141, 1762, 3221, 3187, 6427, 8013, 8013, 102], 'token_type_ids': [0, 0, 0, 0, 0, 0, 0, 0, 0, 0, 0, 0, 0, 0, 0, 0, 0, 0, 0, 0, 0, 0, 0, 0, 0, 0, 0, 0, 0, 0, 0, 0, 0, 0, 0, 0, 0, 0], 'attention_mask': [1, 1, 1, 1, 1, 1, 1, 1, 1, 1, 1, 1, 1, 1, 1, 1, 1, 1, 1, 1, 1, 1, 1, 1, 1, 1, 1, 1, 1, 1, 1, 1, 1, 1, 1, 1, 1, 1], 'labels': 0}\n",
    "\n",
    "👌之後\n",
    "{'input_ids': tensor([ 101, 6983, 2421, 4802, 2141, 2523, 2345, 8024, 5445,  684,  817, 3419,\n",
    "        2523, 6586, 8013, 2255, 3250, 2791, 2233, 4197, 2218, 3221, 2190, 4708,\n",
    "         671,  702, 2207, 4901, 2255, 8024, 2141, 1762, 3221, 3187, 6427, 8013,\n",
    "        8013,  102]), 'token_type_ids': tensor([0, 0, 0, 0, 0, 0, 0, 0, 0, 0, 0, 0, 0, 0, 0, 0, 0, 0, 0, 0, 0, 0, 0, 0,\n",
    "        0, 0, 0, 0, 0, 0, 0, 0, 0, 0, 0, 0, 0, 0]), 'attention_mask': tensor([1, 1, 1, 1, 1, 1, 1, 1, 1, 1, 1, 1, 1, 1, 1, 1, 1, 1, 1, 1, 1, 1, 1, 1,\n",
    "        1, 1, 1, 1, 1, 1, 1, 1, 1, 1, 1, 1, 1, 1]), 'labels': tensor(0)}\n",
    "```\n",
    "\n",
    "[其他參考](https://lewtun.github.io/blog/til/nlp/huggingface/transformers/2021/01/01/til-data-collator.html)"
   ]
  },
  {
   "cell_type": "code",
   "execution_count": 31,
   "metadata": {},
   "outputs": [
    {
     "name": "stdout",
     "output_type": "stream",
     "text": [
      "{'input_ids': [101, 6983, 2421, 4802, 2141, 2523, 2345, 8024, 5445, 684, 817, 3419, 2523, 6586, 8013, 2255, 3250, 2791, 2233, 4197, 2218, 3221, 2190, 4708, 671, 702, 2207, 4901, 2255, 8024, 2141, 1762, 3221, 3187, 6427, 8013, 8013, 102], 'token_type_ids': [0, 0, 0, 0, 0, 0, 0, 0, 0, 0, 0, 0, 0, 0, 0, 0, 0, 0, 0, 0, 0, 0, 0, 0, 0, 0, 0, 0, 0, 0, 0, 0, 0, 0, 0, 0, 0, 0], 'attention_mask': [1, 1, 1, 1, 1, 1, 1, 1, 1, 1, 1, 1, 1, 1, 1, 1, 1, 1, 1, 1, 1, 1, 1, 1, 1, 1, 1, 1, 1, 1, 1, 1, 1, 1, 1, 1, 1, 1], 'labels': 0}\n"
     ]
    },
    {
     "data": {
      "text/plain": [
       "{'input_ids': tensor([ 101, 6983, 2421, 4802, 2141, 2523, 2345, 8024, 5445,  684,  817, 3419,\n",
       "        2523, 6586, 8013, 2255, 3250, 2791, 2233, 4197, 2218, 3221, 2190, 4708,\n",
       "         671,  702, 2207, 4901, 2255, 8024, 2141, 1762, 3221, 3187, 6427, 8013,\n",
       "        8013,  102]), 'token_type_ids': tensor([0, 0, 0, 0, 0, 0, 0, 0, 0, 0, 0, 0, 0, 0, 0, 0, 0, 0, 0, 0, 0, 0, 0, 0,\n",
       "        0, 0, 0, 0, 0, 0, 0, 0, 0, 0, 0, 0, 0, 0]), 'attention_mask': tensor([1, 1, 1, 1, 1, 1, 1, 1, 1, 1, 1, 1, 1, 1, 1, 1, 1, 1, 1, 1, 1, 1, 1, 1,\n",
       "        1, 1, 1, 1, 1, 1, 1, 1, 1, 1, 1, 1, 1, 1]), 'labels': tensor(0)}"
      ]
     },
     "execution_count": 31,
     "metadata": {},
     "output_type": "execute_result"
    }
   ],
   "source": [
    "data_collator=DataCollatorWithPadding(tokenizer=tokenizer)\n",
    "print(tokenized_datasets[\"test\"][0])\n",
    "data_collator(tokenized_datasets[\"test\"][0])"
   ]
  },
  {
   "attachments": {},
   "cell_type": "markdown",
   "metadata": {},
   "source": [
    "## Step9 模型訓練"
   ]
  },
  {
   "cell_type": "code",
   "execution_count": 12,
   "metadata": {},
   "outputs": [
    {
     "data": {
      "application/vnd.jupyter.widget-view+json": {
       "model_id": "c5b3d5ec89d941ea93e7a272a36303a2",
       "version_major": 2,
       "version_minor": 0
      },
      "text/plain": [
       "  0%|          | 0/330 [00:00<?, ?it/s]"
      ]
     },
     "metadata": {},
     "output_type": "display_data"
    },
    {
     "name": "stdout",
     "output_type": "stream",
     "text": [
      "{'loss': 0.5879, 'grad_norm': 2.098688840866089, 'learning_rate': 1.9393939393939395e-05, 'epoch': 0.09}\n",
      "{'loss': 0.5199, 'grad_norm': 2.694455146789551, 'learning_rate': 1.8787878787878792e-05, 'epoch': 0.18}\n",
      "{'loss': 0.4187, 'grad_norm': 2.670790433883667, 'learning_rate': 1.8181818181818182e-05, 'epoch': 0.27}\n",
      "{'loss': 0.3846, 'grad_norm': 2.6055638790130615, 'learning_rate': 1.7575757575757576e-05, 'epoch': 0.36}\n",
      "{'loss': 0.3371, 'grad_norm': 3.885894536972046, 'learning_rate': 1.6969696969696972e-05, 'epoch': 0.45}\n",
      "{'loss': 0.3868, 'grad_norm': 4.2486701011657715, 'learning_rate': 1.6363636363636366e-05, 'epoch': 0.55}\n",
      "{'loss': 0.3384, 'grad_norm': 4.299439430236816, 'learning_rate': 1.575757575757576e-05, 'epoch': 0.64}\n",
      "{'loss': 0.2839, 'grad_norm': 8.763042449951172, 'learning_rate': 1.5151515151515153e-05, 'epoch': 0.73}\n",
      "{'loss': 0.2785, 'grad_norm': 2.8437368869781494, 'learning_rate': 1.4545454545454546e-05, 'epoch': 0.82}\n",
      "{'loss': 0.2907, 'grad_norm': 3.2514212131500244, 'learning_rate': 1.3939393939393942e-05, 'epoch': 0.91}\n",
      "{'loss': 0.3517, 'grad_norm': 12.129435539245605, 'learning_rate': 1.3333333333333333e-05, 'epoch': 1.0}\n"
     ]
    },
    {
     "data": {
      "application/vnd.jupyter.widget-view+json": {
       "model_id": "765623e2dba24a028b446a41092eb1b5",
       "version_major": 2,
       "version_minor": 0
      },
      "text/plain": [
       "  0%|          | 0/7 [00:00<?, ?it/s]"
      ]
     },
     "metadata": {},
     "output_type": "display_data"
    },
    {
     "name": "stdout",
     "output_type": "stream",
     "text": [
      "{'eval_loss': 0.309466689825058, 'eval_accuracy': 0.8584298584298584, 'eval_f1': 0.8944337811900192, 'eval_runtime': 0.5331, 'eval_samples_per_second': 1457.576, 'eval_steps_per_second': 13.131, 'epoch': 1.0}\n",
      "{'loss': 0.243, 'grad_norm': 2.531839609146118, 'learning_rate': 1.2727272727272728e-05, 'epoch': 1.09}\n",
      "{'loss': 0.2487, 'grad_norm': 3.25821852684021, 'learning_rate': 1.2121212121212122e-05, 'epoch': 1.18}\n",
      "{'loss': 0.272, 'grad_norm': 4.8248443603515625, 'learning_rate': 1.1515151515151517e-05, 'epoch': 1.27}\n",
      "{'loss': 0.2615, 'grad_norm': 3.7839505672454834, 'learning_rate': 1.0909090909090909e-05, 'epoch': 1.36}\n",
      "{'loss': 0.2457, 'grad_norm': 5.440265655517578, 'learning_rate': 1.0303030303030304e-05, 'epoch': 1.45}\n",
      "{'loss': 0.2569, 'grad_norm': 1.8598415851593018, 'learning_rate': 9.696969696969698e-06, 'epoch': 1.55}\n",
      "{'loss': 0.2612, 'grad_norm': 4.238866329193115, 'learning_rate': 9.090909090909091e-06, 'epoch': 1.64}\n",
      "{'loss': 0.283, 'grad_norm': 5.623827934265137, 'learning_rate': 8.484848484848486e-06, 'epoch': 1.73}\n",
      "{'loss': 0.2536, 'grad_norm': 3.1740968227386475, 'learning_rate': 7.87878787878788e-06, 'epoch': 1.82}\n",
      "{'loss': 0.2615, 'grad_norm': 2.9789674282073975, 'learning_rate': 7.272727272727273e-06, 'epoch': 1.91}\n",
      "{'loss': 0.2695, 'grad_norm': 3.131171941757202, 'learning_rate': 6.666666666666667e-06, 'epoch': 2.0}\n"
     ]
    },
    {
     "data": {
      "application/vnd.jupyter.widget-view+json": {
       "model_id": "2e3778dcc56846b1b71fcf293ac32f4a",
       "version_major": 2,
       "version_minor": 0
      },
      "text/plain": [
       "  0%|          | 0/7 [00:00<?, ?it/s]"
      ]
     },
     "metadata": {},
     "output_type": "display_data"
    },
    {
     "name": "stdout",
     "output_type": "stream",
     "text": [
      "{'eval_loss': 0.2831384241580963, 'eval_accuracy': 0.8635778635778636, 'eval_f1': 0.8972868217054264, 'eval_runtime': 0.5325, 'eval_samples_per_second': 1459.02, 'eval_steps_per_second': 13.144, 'epoch': 2.0}\n",
      "{'loss': 0.2279, 'grad_norm': 2.455700635910034, 'learning_rate': 6.060606060606061e-06, 'epoch': 2.09}\n",
      "{'loss': 0.234, 'grad_norm': 2.596088171005249, 'learning_rate': 5.4545454545454545e-06, 'epoch': 2.18}\n",
      "{'loss': 0.2067, 'grad_norm': 7.061244487762451, 'learning_rate': 4.848484848484849e-06, 'epoch': 2.27}\n",
      "{'loss': 0.2276, 'grad_norm': 3.9776663780212402, 'learning_rate': 4.242424242424243e-06, 'epoch': 2.36}\n",
      "{'loss': 0.1929, 'grad_norm': 3.45241641998291, 'learning_rate': 3.6363636363636366e-06, 'epoch': 2.45}\n",
      "{'loss': 0.2458, 'grad_norm': 5.26432466506958, 'learning_rate': 3.0303030303030305e-06, 'epoch': 2.55}\n",
      "{'loss': 0.239, 'grad_norm': 2.6935296058654785, 'learning_rate': 2.4242424242424244e-06, 'epoch': 2.64}\n",
      "{'loss': 0.2345, 'grad_norm': 6.444497585296631, 'learning_rate': 1.8181818181818183e-06, 'epoch': 2.73}\n",
      "{'loss': 0.2424, 'grad_norm': 3.161719799041748, 'learning_rate': 1.2121212121212122e-06, 'epoch': 2.82}\n",
      "{'loss': 0.2323, 'grad_norm': 6.463565349578857, 'learning_rate': 6.060606060606061e-07, 'epoch': 2.91}\n",
      "{'loss': 0.2312, 'grad_norm': 9.47081470489502, 'learning_rate': 0.0, 'epoch': 3.0}\n"
     ]
    },
    {
     "data": {
      "application/vnd.jupyter.widget-view+json": {
       "model_id": "2c205207e2a54526b52887866dfd11b2",
       "version_major": 2,
       "version_minor": 0
      },
      "text/plain": [
       "  0%|          | 0/7 [00:00<?, ?it/s]"
      ]
     },
     "metadata": {},
     "output_type": "display_data"
    },
    {
     "name": "stdout",
     "output_type": "stream",
     "text": [
      "{'eval_loss': 0.29114729166030884, 'eval_accuracy': 0.8687258687258688, 'eval_f1': 0.9026717557251909, 'eval_runtime': 0.5339, 'eval_samples_per_second': 1455.3, 'eval_steps_per_second': 13.111, 'epoch': 3.0}\n",
      "{'train_runtime': 47.3903, 'train_samples_per_second': 442.369, 'train_steps_per_second': 6.963, 'train_loss': 0.28937308896671643, 'epoch': 3.0}\n"
     ]
    },
    {
     "data": {
      "text/plain": [
       "TrainOutput(global_step=330, training_loss=0.28937308896671643, metrics={'train_runtime': 47.3903, 'train_samples_per_second': 442.369, 'train_steps_per_second': 6.963, 'total_flos': 351909933963264.0, 'train_loss': 0.28937308896671643, 'epoch': 3.0})"
      ]
     },
     "execution_count": 12,
     "metadata": {},
     "output_type": "execute_result"
    }
   ],
   "source": [
    "trainer.train()\n",
    "#12m 20.7s"
   ]
  },
  {
   "attachments": {},
   "cell_type": "markdown",
   "metadata": {},
   "source": [
    "## Step10 模型評估"
   ]
  },
  {
   "cell_type": "code",
   "execution_count": 13,
   "metadata": {},
   "outputs": [
    {
     "data": {
      "application/vnd.jupyter.widget-view+json": {
       "model_id": "b4cb26e417a5451f8d37f2433f542658",
       "version_major": 2,
       "version_minor": 0
      },
      "text/plain": [
       "  0%|          | 0/7 [00:00<?, ?it/s]"
      ]
     },
     "metadata": {},
     "output_type": "display_data"
    },
    {
     "data": {
      "text/plain": [
       "{'eval_loss': 0.29114729166030884,\n",
       " 'eval_accuracy': 0.8687258687258688,\n",
       " 'eval_f1': 0.9026717557251909,\n",
       " 'eval_runtime': 0.5237,\n",
       " 'eval_samples_per_second': 1483.703,\n",
       " 'eval_steps_per_second': 13.367,\n",
       " 'epoch': 3.0}"
      ]
     },
     "execution_count": 13,
     "metadata": {},
     "output_type": "execute_result"
    }
   ],
   "source": [
    "trainer.evaluate(tokenized_datasets[\"test\"])"
   ]
  },
  {
   "attachments": {},
   "cell_type": "markdown",
   "metadata": {},
   "source": [
    "## Step11 模型預測"
   ]
  },
  {
   "cell_type": "code",
   "execution_count": 14,
   "metadata": {},
   "outputs": [
    {
     "data": {
      "application/vnd.jupyter.widget-view+json": {
       "model_id": "0082e3a36f8743819de007f9603b6370",
       "version_major": 2,
       "version_minor": 0
      },
      "text/plain": [
       "  0%|          | 0/7 [00:00<?, ?it/s]"
      ]
     },
     "metadata": {},
     "output_type": "display_data"
    },
    {
     "data": {
      "text/plain": [
       "PredictionOutput(predictions=array([[ 2.0488412 , -1.4499422 ],\n",
       "       [-0.70345545,  1.0199019 ],\n",
       "       [-0.7072038 ,  0.9529817 ],\n",
       "       ...,\n",
       "       [ 0.01266848,  0.51817375],\n",
       "       [ 1.0745189 , -0.62259156],\n",
       "       [-2.3623407 ,  2.047248  ]], dtype=float32), label_ids=array([0, 1, 1, 0, 1, 0, 1, 1, 0, 1, 0, 1, 0, 1, 1, 1, 1, 0, 1, 0, 1, 1,\n",
       "       1, 0, 1, 0, 1, 1, 1, 1, 1, 0, 0, 0, 1, 1, 1, 1, 1, 1, 0, 0, 1, 1,\n",
       "       1, 1, 0, 0, 0, 1, 1, 1, 0, 1, 1, 0, 1, 1, 1, 0, 0, 1, 1, 0, 1, 0,\n",
       "       0, 1, 1, 1, 1, 0, 0, 0, 1, 0, 0, 1, 1, 1, 0, 1, 1, 1, 1, 1, 1, 1,\n",
       "       0, 1, 1, 1, 1, 1, 1, 1, 1, 1, 0, 1, 0, 1, 0, 1, 0, 1, 1, 1, 0, 1,\n",
       "       1, 1, 1, 0, 1, 0, 0, 1, 1, 0, 1, 0, 1, 1, 0, 0, 1, 1, 1, 1, 0, 1,\n",
       "       1, 0, 0, 1, 0, 1, 0, 0, 0, 0, 1, 1, 1, 1, 1, 1, 1, 1, 1, 1, 1, 1,\n",
       "       0, 1, 0, 1, 1, 0, 1, 1, 0, 1, 0, 0, 1, 1, 0, 0, 1, 1, 1, 1, 1, 0,\n",
       "       0, 1, 1, 0, 1, 0, 0, 1, 0, 1, 0, 1, 1, 1, 1, 1, 1, 1, 1, 1, 1, 1,\n",
       "       1, 0, 1, 1, 0, 1, 1, 1, 0, 0, 0, 0, 1, 1, 1, 1, 1, 0, 1, 1, 0, 1,\n",
       "       1, 0, 0, 1, 1, 1, 1, 0, 1, 0, 0, 0, 1, 1, 1, 0, 1, 1, 1, 0, 0, 1,\n",
       "       1, 0, 0, 1, 1, 1, 0, 1, 1, 1, 0, 0, 0, 1, 1, 0, 1, 1, 0, 1, 1, 1,\n",
       "       0, 0, 0, 1, 1, 1, 1, 1, 1, 1, 0, 1, 1, 1, 1, 0, 1, 0, 1, 1, 1, 1,\n",
       "       0, 1, 0, 1, 0, 1, 1, 1, 1, 1, 1, 1, 1, 0, 0, 0, 1, 1, 0, 1, 1, 1,\n",
       "       1, 0, 1, 0, 1, 0, 1, 1, 1, 1, 1, 1, 1, 1, 1, 0, 1, 1, 1, 1, 1, 1,\n",
       "       1, 1, 1, 1, 1, 1, 1, 0, 1, 1, 1, 1, 0, 1, 1, 1, 0, 1, 1, 1, 1, 1,\n",
       "       0, 0, 1, 0, 1, 0, 0, 1, 1, 1, 1, 1, 1, 1, 1, 1, 0, 0, 1, 1, 1, 1,\n",
       "       1, 1, 1, 1, 1, 0, 1, 0, 1, 1, 1, 1, 1, 1, 1, 1, 1, 1, 0, 1, 1, 0,\n",
       "       1, 1, 1, 1, 1, 1, 1, 1, 1, 1, 0, 1, 1, 1, 1, 1, 0, 1, 1, 0, 0, 0,\n",
       "       1, 1, 1, 1, 0, 1, 1, 1, 0, 0, 0, 1, 0, 0, 1, 0, 0, 1, 1, 1, 1, 0,\n",
       "       1, 1, 0, 0, 0, 0, 1, 0, 0, 1, 0, 1, 0, 1, 0, 1, 0, 1, 1, 0, 1, 1,\n",
       "       0, 0, 0, 0, 1, 0, 0, 1, 0, 1, 1, 1, 1, 1, 1, 0, 0, 1, 1, 1, 0, 1,\n",
       "       0, 1, 1, 1, 0, 1, 1, 0, 1, 1, 0, 1, 1, 1, 1, 1, 1, 1, 1, 1, 1, 1,\n",
       "       1, 0, 0, 1, 1, 1, 1, 0, 1, 0, 0, 1, 1, 1, 1, 1, 0, 0, 1, 1, 1, 0,\n",
       "       1, 0, 1, 1, 0, 1, 1, 1, 1, 1, 0, 1, 1, 1, 1, 1, 0, 1, 1, 1, 0, 1,\n",
       "       1, 1, 1, 1, 1, 1, 1, 1, 1, 1, 1, 1, 0, 1, 0, 1, 1, 1, 0, 1, 1, 1,\n",
       "       1, 1, 1, 1, 1, 1, 1, 1, 1, 1, 0, 0, 0, 0, 1, 1, 1, 1, 1, 1, 1, 0,\n",
       "       1, 0, 0, 0, 1, 1, 1, 0, 1, 0, 1, 1, 0, 1, 1, 0, 1, 1, 0, 1, 1, 0,\n",
       "       1, 1, 1, 0, 0, 1, 1, 0, 1, 0, 1, 0, 1, 1, 1, 0, 0, 1, 1, 1, 0, 1,\n",
       "       1, 1, 1, 1, 1, 0, 1, 1, 1, 0, 1, 0, 1, 0, 0, 0, 0, 1, 0, 0, 1, 0,\n",
       "       1, 1, 1, 1, 1, 0, 1, 1, 1, 1, 1, 0, 0, 1, 1, 0, 1, 1, 1, 0, 1, 0,\n",
       "       0, 0, 1, 0, 1, 0, 1, 1, 1, 1, 0, 1, 1, 1, 0, 1, 1, 1, 0, 1, 1, 0,\n",
       "       0, 0, 1, 1, 0, 1, 0, 1, 1, 1, 0, 0, 1, 1, 0, 1, 1, 1, 1, 0, 1, 1,\n",
       "       1, 1, 1, 0, 1, 1, 1, 1, 1, 0, 1, 1, 0, 1, 1, 0, 0, 0, 1, 1, 0, 0,\n",
       "       1, 0, 1, 1, 1, 0, 0, 0, 1, 0, 0, 0, 0, 0, 1, 1, 1, 1, 1, 1, 1, 1,\n",
       "       1, 1, 1, 0, 0, 1, 1]), metrics={'test_loss': 0.29114729166030884, 'test_accuracy': 0.8687258687258688, 'test_f1': 0.9026717557251909, 'test_runtime': 0.5282, 'test_samples_per_second': 1470.912, 'test_steps_per_second': 13.251})"
      ]
     },
     "execution_count": 14,
     "metadata": {},
     "output_type": "execute_result"
    }
   ],
   "source": [
    "trainer.predict(tokenized_datasets[\"test\"])"
   ]
  },
  {
   "cell_type": "code",
   "execution_count": 15,
   "metadata": {},
   "outputs": [
    {
     "name": "stderr",
     "output_type": "stream",
     "text": [
      "Hardware accelerator e.g. GPU is available in the environment, but no `device` argument is passed to the `Pipeline` object. Model will be on CPU.\n"
     ]
    }
   ],
   "source": [
    "from transformers import pipeline\n",
    "\n",
    "id2_label = id2_label = {0: \"差評！\", 1: \"好評！\"}\n",
    "model.config.id2label = id2_label\n",
    "#pipe = pipeline(\"text-classification\", model=model, tokenizer=tokenizer, device=\"cpu\")\n",
    "#❌pipe = pipeline(\"text-classification\", model=model, tokenizer=tokenizer, device=0)\n",
    "pipe = pipeline(\"text-classification\", model=model, tokenizer=tokenizer)"
   ]
  },
  {
   "cell_type": "code",
   "execution_count": 16,
   "metadata": {},
   "outputs": [
    {
     "data": {
      "text/plain": [
       "[{'label': '好評！', 'score': 0.9566326141357422}]"
      ]
     },
     "execution_count": 16,
     "metadata": {},
     "output_type": "execute_result"
    }
   ],
   "source": [
    "sen = \"我覺得不錯！\"\n",
    "pipe(sen)"
   ]
  },
  {
   "cell_type": "code",
   "execution_count": null,
   "metadata": {},
   "outputs": [],
   "source": []
  }
 ],
 "metadata": {
  "kernelspec": {
   "display_name": "prj",
   "language": "python",
   "name": "python3"
  },
  "language_info": {
   "codemirror_mode": {
    "name": "ipython",
    "version": 3
   },
   "file_extension": ".py",
   "mimetype": "text/x-python",
   "name": "python",
   "nbconvert_exporter": "python",
   "pygments_lexer": "ipython3",
   "version": "3.12.6"
  },
  "orig_nbformat": 4
 },
 "nbformat": 4,
 "nbformat_minor": 2
}
