{
 "cells": [
  {
   "cell_type": "markdown",
   "metadata": {},
   "source": [
    "1 簡介\n",
    "嵌入層將正整數（下標）轉換為具有固定大小的向量，如[[4],[20]]->[[0.25,0.1],[0.6,-0.2]]\n",
    "\n",
    "Embedding層只能作為模型的第一層\n",
    "```python\n",
    "tf.keras.layers.Embedding(\n",
    "    input_dim,\n",
    "    output_dim,\n",
    "    embeddings_initializer='uniform',\n",
    "    embeddings_regularizer=None,\n",
    "    activity_regularizer=None,\n",
    "    embeddings_constraint=None,\n",
    "    mask_zero=False,\n",
    "    input_length=None,\n",
    "    **kwargs\n",
    ")\n",
    "``` \n",
    "參數\n",
    "重點關注三個input_dim、output_dim、input_length參數。\n",
    "\n",
    "- input_dim：大或等於0的整數，字典長度，即輸入數據最大下標+1\n",
    "- output_dim：大於0的整數，代表全連接嵌入的維度\n",
    "\n",
    "- embeddings_initializer: 嵌入矩陣的初始化方法，為預定義初始化方法名的字符串，或用於初始化權重的初始化器。\n",
    "- embeddings_regularizer: 嵌入矩陣的正則項，為Regularizer對像\n",
    "- embeddings_constraint: 嵌入矩陣的約束項，為Constraints對像\n",
    "- mask_zero：布爾值，確定是否將輸入中的『0』看作是應該被忽略的『填充』（padding）值，該參數在使用遞歸層處理變長輸入時有用。設置為True的話，模型中後續的層必須都支持masking，否則會拋出異常。如果該值為True，則下標0在字典中不可用，input_dim應設置為|vocabulary| + 1。\n",
    "- input_length：當輸入序列的長度固定時，該值為其長度。如果要在該層後接Flatten層，然後接Dense層，則必須指定該參數，否則Dense層的輸出維度無法自動推斷。\n",
    "## 示例一\n",
    "### 數據準備\n",
    "創造一個shape為（3，2）的數據，即一共3個數據，每個數據為2維，數據中最大數字為10\n"
   ]
  },
  {
   "cell_type": "code",
   "execution_count": 1,
   "metadata": {},
   "outputs": [
    {
     "name": "stdout",
     "output_type": "stream",
     "text": [
      "(3, 2)\n",
      "[[ 0  1]\n",
      " [ 2  3]\n",
      " [ 4 10]]\n"
     ]
    }
   ],
   "source": [
    "import numpy as np\n",
    "import tensorflow as tf\n",
    "data = np.array([[0,1],[2,3],[4,10]])\n",
    "print(data.shape) # (3, 2)\n",
    "print(data)\n"
   ]
  },
  {
   "cell_type": "markdown",
   "metadata": {},
   "source": [
    "\n",
    "## 模型搭建與測試\n",
    "我們將數據轉換為具有固定大小的向量\n"
   ]
  },
  {
   "cell_type": "code",
   "execution_count": 2,
   "metadata": {},
   "outputs": [
    {
     "name": "stderr",
     "output_type": "stream",
     "text": [
      "c:\\pywork\\ollama\\basic5_torch\\prj\\Lib\\site-packages\\keras\\src\\layers\\core\\embedding.py:90: UserWarning: Argument `input_length` is deprecated. Just remove it.\n",
      "  warnings.warn(\n"
     ]
    },
    {
     "name": "stdout",
     "output_type": "stream",
     "text": [
      "\u001b[1m1/1\u001b[0m \u001b[32m━━━━━━━━━━━━━━━━━━━━\u001b[0m\u001b[37m\u001b[0m \u001b[1m0s\u001b[0m 139ms/step\n",
      "[[[ 0.00401244  0.02178882]\n",
      "  [-0.0489428  -0.02986949]]\n",
      "\n",
      " [[ 0.02268794  0.00041698]\n",
      "  [-0.01534552  0.01989034]]\n",
      "\n",
      " [[-0.03999241  0.04818959]\n",
      "  [-0.04581785 -0.04527298]]]\n",
      "(3, 2, 2)\n"
     ]
    }
   ],
   "source": [
    "\n",
    "model_test = tf.keras.models.Sequential()\n",
    "model_test.add(tf.keras.layers.Embedding(11,2,input_length=2))\n",
    "\n",
    "model_test.compile('rmsprop', 'mse')\n",
    "pre = model_test.predict(data)\n",
    "print(pre)\n",
    "print(pre.shape)\n"
   ]
  },
  {
   "cell_type": "markdown",
   "metadata": {},
   "source": [
    "其中Embedding(11,2,input_length=2)\n",
    "\n",
    "- 第一個參數：因輸入數據中最大數據為10，因此input_dim設置為11，該參數為必填，「input_dim=」省略\n",
    "- 第二個參數：2，即將每個數字轉換為具有固定大小維度為2的向量，該參數為必填，「output_dim=」省略\n",
    "- 第三個參數：input_length=2，代表輸入的每個數據的長度，因原數據中每個數據為2維，因此input_length=2\n",
    "\n",
    "## 查看結果\n",
    "原數據：[[0,1],[2,3],[4,10]] shape為(3, 2)\n",
    "\n",
    "經過模型之後：\n",
    "```\n",
    "array([[[-0.02706119, -0.03584576],\n",
    "        [-0.0184832 ,  0.01159693]],\n",
    "\n",
    "       [[-0.03302763,  0.04805403],\n",
    "        [-0.04142798, -0.01162308]],\n",
    "\n",
    "       [[-0.02347708,  0.0004672 ],\n",
    "        [-0.01176012, -0.04759126]]], dtype=float32)\n",
    "```        \n",
    " \n",
    "shape為(3, 2, 2)\n",
    "\n",
    "可以看出原數據中的0變為[-0.02706119, -0.03584576]，1變為[-0.0184832 , 0.01159693]\n",
    "\n",
    "## 示例二\n"
   ]
  },
  {
   "cell_type": "code",
   "execution_count": null,
   "metadata": {},
   "outputs": [
    {
     "name": "stdout",
     "output_type": "stream",
     "text": [
      "\u001b[1m1/1\u001b[0m \u001b[32m━━━━━━━━━━━━━━━━━━━━\u001b[0m\u001b[37m\u001b[0m \u001b[1m0s\u001b[0m 41ms/step\n",
      "(32, 10, 64)\n"
     ]
    },
    {
     "name": "stderr",
     "output_type": "stream",
     "text": [
      "c:\\pywork\\ollama\\basic5_torch\\prj\\Lib\\site-packages\\keras\\src\\layers\\core\\embedding.py:90: UserWarning: Argument `input_length` is deprecated. Just remove it.\n",
      "  warnings.warn(\n"
     ]
    },
    {
     "data": {
      "text/html": [
       "<pre style=\"white-space:pre;overflow-x:auto;line-height:normal;font-family:Menlo,'DejaVu Sans Mono',consolas,'Courier New',monospace\"><span style=\"font-weight: bold\">Model: \"sequential_2\"</span>\n",
       "</pre>\n"
      ],
      "text/plain": [
       "\u001b[1mModel: \"sequential_2\"\u001b[0m\n"
      ]
     },
     "metadata": {},
     "output_type": "display_data"
    },
    {
     "data": {
      "text/html": [
       "<pre style=\"white-space:pre;overflow-x:auto;line-height:normal;font-family:Menlo,'DejaVu Sans Mono',consolas,'Courier New',monospace\">┏━━━━━━━━━━━━━━━━━━━━━━━━━━━━━━━━━┳━━━━━━━━━━━━━━━━━━━━━━━━┳━━━━━━━━━━━━━━━┓\n",
       "┃<span style=\"font-weight: bold\"> Layer (type)                    </span>┃<span style=\"font-weight: bold\"> Output Shape           </span>┃<span style=\"font-weight: bold\">       Param # </span>┃\n",
       "┡━━━━━━━━━━━━━━━━━━━━━━━━━━━━━━━━━╇━━━━━━━━━━━━━━━━━━━━━━━━╇━━━━━━━━━━━━━━━┩\n",
       "│ embedding_2 (<span style=\"color: #0087ff; text-decoration-color: #0087ff\">Embedding</span>)         │ (<span style=\"color: #00af00; text-decoration-color: #00af00\">32</span>, <span style=\"color: #00af00; text-decoration-color: #00af00\">10</span>, <span style=\"color: #00af00; text-decoration-color: #00af00\">64</span>)           │        <span style=\"color: #00af00; text-decoration-color: #00af00\">64,000</span> │\n",
       "└─────────────────────────────────┴────────────────────────┴───────────────┘\n",
       "</pre>\n"
      ],
      "text/plain": [
       "┏━━━━━━━━━━━━━━━━━━━━━━━━━━━━━━━━━┳━━━━━━━━━━━━━━━━━━━━━━━━┳━━━━━━━━━━━━━━━┓\n",
       "┃\u001b[1m \u001b[0m\u001b[1mLayer (type)                   \u001b[0m\u001b[1m \u001b[0m┃\u001b[1m \u001b[0m\u001b[1mOutput Shape          \u001b[0m\u001b[1m \u001b[0m┃\u001b[1m \u001b[0m\u001b[1m      Param #\u001b[0m\u001b[1m \u001b[0m┃\n",
       "┡━━━━━━━━━━━━━━━━━━━━━━━━━━━━━━━━━╇━━━━━━━━━━━━━━━━━━━━━━━━╇━━━━━━━━━━━━━━━┩\n",
       "│ embedding_2 (\u001b[38;5;33mEmbedding\u001b[0m)         │ (\u001b[38;5;34m32\u001b[0m, \u001b[38;5;34m10\u001b[0m, \u001b[38;5;34m64\u001b[0m)           │        \u001b[38;5;34m64,000\u001b[0m │\n",
       "└─────────────────────────────────┴────────────────────────┴───────────────┘\n"
      ]
     },
     "metadata": {},
     "output_type": "display_data"
    },
    {
     "data": {
      "text/html": [
       "<pre style=\"white-space:pre;overflow-x:auto;line-height:normal;font-family:Menlo,'DejaVu Sans Mono',consolas,'Courier New',monospace\"><span style=\"font-weight: bold\"> Total params: </span><span style=\"color: #00af00; text-decoration-color: #00af00\">64,000</span> (250.00 KB)\n",
       "</pre>\n"
      ],
      "text/plain": [
       "\u001b[1m Total params: \u001b[0m\u001b[38;5;34m64,000\u001b[0m (250.00 KB)\n"
      ]
     },
     "metadata": {},
     "output_type": "display_data"
    },
    {
     "data": {
      "text/html": [
       "<pre style=\"white-space:pre;overflow-x:auto;line-height:normal;font-family:Menlo,'DejaVu Sans Mono',consolas,'Courier New',monospace\"><span style=\"font-weight: bold\"> Trainable params: </span><span style=\"color: #00af00; text-decoration-color: #00af00\">64,000</span> (250.00 KB)\n",
       "</pre>\n"
      ],
      "text/plain": [
       "\u001b[1m Trainable params: \u001b[0m\u001b[38;5;34m64,000\u001b[0m (250.00 KB)\n"
      ]
     },
     "metadata": {},
     "output_type": "display_data"
    },
    {
     "data": {
      "text/html": [
       "<pre style=\"white-space:pre;overflow-x:auto;line-height:normal;font-family:Menlo,'DejaVu Sans Mono',consolas,'Courier New',monospace\"><span style=\"font-weight: bold\"> Non-trainable params: </span><span style=\"color: #00af00; text-decoration-color: #00af00\">0</span> (0.00 B)\n",
       "</pre>\n"
      ],
      "text/plain": [
       "\u001b[1m Non-trainable params: \u001b[0m\u001b[38;5;34m0\u001b[0m (0.00 B)\n"
      ]
     },
     "metadata": {},
     "output_type": "display_data"
    }
   ],
   "source": [
    "\n",
    "# 數據準備\n",
    "input_array = np.random.randint(1000, size=(32, 10)) # shape為(32,10)\n",
    "# 構建測試模型\n",
    "model = tf.keras.Sequential()\n",
    "model.add(tf.keras.layers.Embedding(1000, 64, input_length=10))\n",
    "# 模型的輸入size應該為(batch,input_length),並且數據中最大不可超過999\n",
    "# 模型的輸出shape為(None,10,64),『None』是batch維度\n",
    "model.compile('rmsprop', 'mse')\n",
    "output_array = model.predict(input_array)\n",
    "print(output_array.shape)\n",
    "model.summary() "
   ]
  },
  {
   "cell_type": "markdown",
   "metadata": {},
   "source": [
    "輸出shape\n",
    "```\n",
    "(32, 10, 64)\n",
    "``` \n",
    "分析：\n",
    "\n",
    "經過Embedding層之後，原數據中的0-999這1000個數，都被映射為一個具有64維的向量。維度由2維變為3維。\n",
    "\n",
    "注意：原數據為32個10維的整數數據，每個數據的範圍為[0,1000) ，正是因為原數據不包含1000，因此Embedding的第一個參數可以設置為1000，如果包含，則需設置為1001\n",
    "\n",
    "ref\n",
    "\n",
    "- [overview](https://www.cnblogs.com/bjxqmy/p/13521516.html)\n",
    "- [embeding](https://coderzcolumn.com/tutorials/artificial-intelligence/keras-word-embeddings-for-text-classification)"
   ]
  }
 ],
 "metadata": {
  "kernelspec": {
   "display_name": "prj",
   "language": "python",
   "name": "python3"
  },
  "language_info": {
   "codemirror_mode": {
    "name": "ipython",
    "version": 3
   },
   "file_extension": ".py",
   "mimetype": "text/x-python",
   "name": "python",
   "nbconvert_exporter": "python",
   "pygments_lexer": "ipython3",
   "version": "3.12.6"
  }
 },
 "nbformat": 4,
 "nbformat_minor": 2
}
