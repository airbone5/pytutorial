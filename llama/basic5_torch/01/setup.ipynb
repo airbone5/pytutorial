{
 "cells": [
  {
   "cell_type": "markdown",
   "metadata": {},
   "source": [
    "## 設定環境\n",
    "[安裝](https://pytorch.org/)\n",
    "\n",
    "如果有nvidia\n",
    "1. 準備\n",
    "  - 需要下載cuda 12.4 版\n",
    "  - python 需要3.12版\n",
    "1. runenv\n",
    "1. pip3 install torch torchvision torchaudio --index-url https://download.pytorch.org/whl/cu124"
   ]
  }
 ],
 "metadata": {
  "kernelspec": {
   "display_name": "prj",
   "language": "python",
   "name": "python3"
  },
  "language_info": {
   "codemirror_mode": {
    "name": "ipython",
    "version": 3
   },
   "file_extension": ".py",
   "mimetype": "text/x-python",
   "name": "python",
   "nbconvert_exporter": "python",
   "pygments_lexer": "ipython3",
   "version": "3.12.7"
  }
 },
 "nbformat": 4,
 "nbformat_minor": 2
}
