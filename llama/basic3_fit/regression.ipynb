{
 "cells": [
  {
   "cell_type": "markdown",
   "metadata": {},
   "source": [
    "[F and t](https://medium.com/@dancerworld60/unveiling-the-power-of-the-f-statistic-and-t-statistics-in-regression-analysis-unraveling-the-743391c9c95a)"
   ]
  },
  {
   "cell_type": "code",
   "execution_count": null,
   "metadata": {},
   "outputs": [],
   "source": [
    "import numpy as np\n",
    "import pandas as pd\n",
    "from sklearn.linear_model import LinearRegression\n",
    "from sklearn.metrics import r2_score\n",
    "\n",
    "# Generate synthetic data\n",
    "np.random.seed(42)\n",
    "n = 100\n",
    "x1 = np.random.normal(0, 1, n)\n",
    "x2 = np.random.normal(0, 1, n)\n",
    "irrelevant_predictors = np.random.normal(0, 1, (n, 10))\n",
    "\n",
    "y = 2 * x1 + 3 * x2 + np.random.normal(0, 1, n)\n",
    "\n",
    "# Helper function to calculate adjusted R-squared\n",
    "def adjusted_r2(r2, n, k):\n",
    "    return 1 - (1 - r2) * (n - 1) / (n - k - 1)\n",
    "\n",
    "# Fit linear regression models with different predictors\n",
    "X = pd.DataFrame({'x1': x1, 'x2': x2})\n",
    "\n",
    "X_with_irrelevant = pd.concat([X] + [pd.Series(irrelevant_predictors[:, i], name=f\"irrelevant_{i}\") for i in range(10)], axis=1)\n",
    "\n",
    "model1 = LinearRegression().fit(X, y)\n",
    "model2 = LinearRegression().fit(X_with_irrelevant, y)\n",
    "\n",
    "# Calculate R-squared and adjusted R-squared for each model\n",
    "models = [('Model with relevant predictors', model1, X.shape[1]), ('Model with irrelevant predictors', model2, X_with_irrelevant.shape[1])]\n",
    "\n",
    "for name, model, k in models:\n",
    "    r2 = r2_score(y, model.predict(X_with_irrelevant.iloc[:, :k]))\n",
    "    adj_r2 = adjusted_r2(r2, n, k)\n",
    "    print(f\"{name}: R-squared = {r2:.3f}, Adjusted R-squared = {adj_r2:.3f}\")"
   ]
  }
 ],
 "metadata": {
  "language_info": {
   "name": "python"
  }
 },
 "nbformat": 4,
 "nbformat_minor": 2
}
